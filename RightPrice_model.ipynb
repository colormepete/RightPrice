{
 "cells": [
  {
   "cell_type": "code",
   "execution_count": 1,
   "metadata": {},
   "outputs": [],
   "source": [
    "import pandas as pd\n",
    "import numpy as np\n",
    "import matplotlib.pyplot as plt\n",
    "\n",
    "%matplotlib inline"
   ]
  },
  {
   "cell_type": "code",
   "execution_count": 2,
   "metadata": {},
   "outputs": [
    {
     "data": {
      "text/html": [
       "<div>\n",
       "<style scoped>\n",
       "    .dataframe tbody tr th:only-of-type {\n",
       "        vertical-align: middle;\n",
       "    }\n",
       "\n",
       "    .dataframe tbody tr th {\n",
       "        vertical-align: top;\n",
       "    }\n",
       "\n",
       "    .dataframe thead th {\n",
       "        text-align: right;\n",
       "    }\n",
       "</style>\n",
       "<table border=\"1\" class=\"dataframe\">\n",
       "  <thead>\n",
       "    <tr style=\"text-align: right;\">\n",
       "      <th></th>\n",
       "      <th>cost_0</th>\n",
       "      <th>created_dt</th>\n",
       "      <th>end_local_dt</th>\n",
       "      <th>fee_0</th>\n",
       "      <th>id</th>\n",
       "      <th>published_dt</th>\n",
       "      <th>start_local_dt</th>\n",
       "      <th>tax_0</th>\n",
       "      <th>venue_id</th>\n",
       "      <th>created_to_publish</th>\n",
       "      <th>...</th>\n",
       "      <th>subcategory_id_16006.0</th>\n",
       "      <th>subcategory_id_16009.0</th>\n",
       "      <th>subcategory_id_16999.0</th>\n",
       "      <th>subcategory_id_17003.0</th>\n",
       "      <th>subcategory_id_18001.0</th>\n",
       "      <th>subcategory_id_19002.0</th>\n",
       "      <th>subcategory_id_19003.0</th>\n",
       "      <th>subcategory_id_19006.0</th>\n",
       "      <th>subcategory_id_19008.0</th>\n",
       "      <th>waitlist_available_0.0</th>\n",
       "    </tr>\n",
       "    <tr>\n",
       "      <th>index</th>\n",
       "      <th></th>\n",
       "      <th></th>\n",
       "      <th></th>\n",
       "      <th></th>\n",
       "      <th></th>\n",
       "      <th></th>\n",
       "      <th></th>\n",
       "      <th></th>\n",
       "      <th></th>\n",
       "      <th></th>\n",
       "      <th></th>\n",
       "      <th></th>\n",
       "      <th></th>\n",
       "      <th></th>\n",
       "      <th></th>\n",
       "      <th></th>\n",
       "      <th></th>\n",
       "      <th></th>\n",
       "      <th></th>\n",
       "      <th></th>\n",
       "      <th></th>\n",
       "    </tr>\n",
       "  </thead>\n",
       "  <tbody>\n",
       "    <tr>\n",
       "      <th>0</th>\n",
       "      <td>30.0</td>\n",
       "      <td>2018-06-07 13:32:09</td>\n",
       "      <td>2018-09-03 17:00:00</td>\n",
       "      <td>3.72</td>\n",
       "      <td>46844131057</td>\n",
       "      <td>2018-06-07 13:43:31</td>\n",
       "      <td>2018-09-03 09:00:00</td>\n",
       "      <td>0.0</td>\n",
       "      <td>25149064.0</td>\n",
       "      <td>11.0</td>\n",
       "      <td>...</td>\n",
       "      <td>0.0</td>\n",
       "      <td>0.0</td>\n",
       "      <td>0.0</td>\n",
       "      <td>0.0</td>\n",
       "      <td>0.0</td>\n",
       "      <td>0.0</td>\n",
       "      <td>0.0</td>\n",
       "      <td>0.0</td>\n",
       "      <td>0.0</td>\n",
       "      <td>1.0</td>\n",
       "    </tr>\n",
       "    <tr>\n",
       "      <th>1</th>\n",
       "      <td>15.0</td>\n",
       "      <td>2018-07-28 19:47:56</td>\n",
       "      <td>2018-09-01 12:00:00</td>\n",
       "      <td>0.00</td>\n",
       "      <td>48522658578</td>\n",
       "      <td>2018-07-28 19:49:52</td>\n",
       "      <td>2018-09-01 11:00:00</td>\n",
       "      <td>0.0</td>\n",
       "      <td>20307481.0</td>\n",
       "      <td>1.0</td>\n",
       "      <td>...</td>\n",
       "      <td>0.0</td>\n",
       "      <td>0.0</td>\n",
       "      <td>0.0</td>\n",
       "      <td>0.0</td>\n",
       "      <td>0.0</td>\n",
       "      <td>0.0</td>\n",
       "      <td>0.0</td>\n",
       "      <td>0.0</td>\n",
       "      <td>1.0</td>\n",
       "      <td>1.0</td>\n",
       "    </tr>\n",
       "    <tr>\n",
       "      <th>2</th>\n",
       "      <td>135.0</td>\n",
       "      <td>2018-06-28 20:37:37</td>\n",
       "      <td>2018-09-01 21:00:00</td>\n",
       "      <td>0.00</td>\n",
       "      <td>47569506675</td>\n",
       "      <td>2018-06-28 20:37:40</td>\n",
       "      <td>2018-09-01 18:00:00</td>\n",
       "      <td>0.0</td>\n",
       "      <td>24881752.0</td>\n",
       "      <td>0.0</td>\n",
       "      <td>...</td>\n",
       "      <td>0.0</td>\n",
       "      <td>0.0</td>\n",
       "      <td>0.0</td>\n",
       "      <td>0.0</td>\n",
       "      <td>0.0</td>\n",
       "      <td>0.0</td>\n",
       "      <td>0.0</td>\n",
       "      <td>0.0</td>\n",
       "      <td>0.0</td>\n",
       "      <td>1.0</td>\n",
       "    </tr>\n",
       "    <tr>\n",
       "      <th>3</th>\n",
       "      <td>20.0</td>\n",
       "      <td>2018-06-22 11:57:43</td>\n",
       "      <td>2018-09-01 12:00:00</td>\n",
       "      <td>1.19</td>\n",
       "      <td>47349009161</td>\n",
       "      <td>2018-06-22 11:58:27</td>\n",
       "      <td>2018-09-01 09:30:00</td>\n",
       "      <td>0.0</td>\n",
       "      <td>22394135.0</td>\n",
       "      <td>0.0</td>\n",
       "      <td>...</td>\n",
       "      <td>0.0</td>\n",
       "      <td>0.0</td>\n",
       "      <td>0.0</td>\n",
       "      <td>0.0</td>\n",
       "      <td>0.0</td>\n",
       "      <td>0.0</td>\n",
       "      <td>0.0</td>\n",
       "      <td>0.0</td>\n",
       "      <td>0.0</td>\n",
       "      <td>1.0</td>\n",
       "    </tr>\n",
       "    <tr>\n",
       "      <th>4</th>\n",
       "      <td>18.0</td>\n",
       "      <td>2018-08-05 23:27:51</td>\n",
       "      <td>2018-09-01 23:00:00</td>\n",
       "      <td>0.00</td>\n",
       "      <td>48782412509</td>\n",
       "      <td>2018-08-05 23:28:57</td>\n",
       "      <td>2018-09-01 21:30:00</td>\n",
       "      <td>0.0</td>\n",
       "      <td>22687889.0</td>\n",
       "      <td>1.0</td>\n",
       "      <td>...</td>\n",
       "      <td>0.0</td>\n",
       "      <td>0.0</td>\n",
       "      <td>0.0</td>\n",
       "      <td>0.0</td>\n",
       "      <td>0.0</td>\n",
       "      <td>0.0</td>\n",
       "      <td>0.0</td>\n",
       "      <td>0.0</td>\n",
       "      <td>0.0</td>\n",
       "      <td>1.0</td>\n",
       "    </tr>\n",
       "  </tbody>\n",
       "</table>\n",
       "<p>5 rows × 261 columns</p>\n",
       "</div>"
      ],
      "text/plain": [
       "       cost_0           created_dt         end_local_dt  fee_0           id  \\\n",
       "index                                                                         \n",
       "0        30.0  2018-06-07 13:32:09  2018-09-03 17:00:00   3.72  46844131057   \n",
       "1        15.0  2018-07-28 19:47:56  2018-09-01 12:00:00   0.00  48522658578   \n",
       "2       135.0  2018-06-28 20:37:37  2018-09-01 21:00:00   0.00  47569506675   \n",
       "3        20.0  2018-06-22 11:57:43  2018-09-01 12:00:00   1.19  47349009161   \n",
       "4        18.0  2018-08-05 23:27:51  2018-09-01 23:00:00   0.00  48782412509   \n",
       "\n",
       "              published_dt       start_local_dt  tax_0    venue_id  \\\n",
       "index                                                                \n",
       "0      2018-06-07 13:43:31  2018-09-03 09:00:00    0.0  25149064.0   \n",
       "1      2018-07-28 19:49:52  2018-09-01 11:00:00    0.0  20307481.0   \n",
       "2      2018-06-28 20:37:40  2018-09-01 18:00:00    0.0  24881752.0   \n",
       "3      2018-06-22 11:58:27  2018-09-01 09:30:00    0.0  22394135.0   \n",
       "4      2018-08-05 23:28:57  2018-09-01 21:30:00    0.0  22687889.0   \n",
       "\n",
       "       created_to_publish  ...  subcategory_id_16006.0  \\\n",
       "index                      ...                           \n",
       "0                    11.0  ...                     0.0   \n",
       "1                     1.0  ...                     0.0   \n",
       "2                     0.0  ...                     0.0   \n",
       "3                     0.0  ...                     0.0   \n",
       "4                     1.0  ...                     0.0   \n",
       "\n",
       "       subcategory_id_16009.0  subcategory_id_16999.0  subcategory_id_17003.0  \\\n",
       "index                                                                           \n",
       "0                         0.0                     0.0                     0.0   \n",
       "1                         0.0                     0.0                     0.0   \n",
       "2                         0.0                     0.0                     0.0   \n",
       "3                         0.0                     0.0                     0.0   \n",
       "4                         0.0                     0.0                     0.0   \n",
       "\n",
       "       subcategory_id_18001.0  subcategory_id_19002.0  subcategory_id_19003.0  \\\n",
       "index                                                                           \n",
       "0                         0.0                     0.0                     0.0   \n",
       "1                         0.0                     0.0                     0.0   \n",
       "2                         0.0                     0.0                     0.0   \n",
       "3                         0.0                     0.0                     0.0   \n",
       "4                         0.0                     0.0                     0.0   \n",
       "\n",
       "       subcategory_id_19006.0  subcategory_id_19008.0  waitlist_available_0.0  \n",
       "index                                                                          \n",
       "0                         0.0                     0.0                     1.0  \n",
       "1                         0.0                     1.0                     1.0  \n",
       "2                         0.0                     0.0                     1.0  \n",
       "3                         0.0                     0.0                     1.0  \n",
       "4                         0.0                     0.0                     1.0  \n",
       "\n",
       "[5 rows x 261 columns]"
      ]
     },
     "execution_count": 2,
     "metadata": {},
     "output_type": "execute_result"
    }
   ],
   "source": [
    "train = pd.read_csv('event_df_cleaned.csv',index_col='index')\n",
    "train.head()"
   ]
  },
  {
   "cell_type": "code",
   "execution_count": 3,
   "metadata": {},
   "outputs": [
    {
     "name": "stdout",
     "output_type": "stream",
     "text": [
      "['cost_0', 'created_dt', 'end_local_dt', 'fee_0', 'id', 'published_dt', 'start_local_dt', 'tax_0', 'venue_id', 'created_to_publish', 'publish_to_start', 'start_to_end', 'category_id_-999.0', 'category_id_101.0', 'category_id_102.0', 'category_id_103.0', 'category_id_104.0', 'category_id_105.0', 'category_id_106.0', 'category_id_107.0', 'category_id_108.0', 'category_id_109.0', 'category_id_110.0', 'category_id_111.0', 'category_id_112.0', 'category_id_113.0', 'category_id_114.0', 'category_id_115.0', 'category_id_116.0', 'category_id_117.0', 'category_id_118.0', 'category_id_119.0', 'category_id_120.0', 'country_AU', 'country_CA', 'country_GB', 'country_US', 'currency_AUD', 'currency_CAD', 'currency_EUR', 'currency_GBP', 'donation_0_0.0', 'format_id_-999.0', 'format_id_1.0', 'format_id_2.0', 'format_id_3.0', 'format_id_4.0', 'format_id_5.0', 'format_id_6.0', 'format_id_7.0', 'format_id_8.0', 'format_id_9.0', 'format_id_10.0', 'format_id_11.0', 'format_id_12.0', 'format_id_13.0', 'format_id_14.0', 'format_id_15.0', 'format_id_16.0', 'format_id_17.0', 'format_id_18.0', 'format_id_19.0', 'free_0_0.0', 'has_available_tickets_0.0', 'include_fee_0_0.0', 'inventory_type_limited', 'is_paid_0.0', 'is_reserved_seating_0.0', 'is_sold_out_0.0', 'locale_en', 'locale_en_CA', 'on_sale_status_0_AVAILABLE', 'on_sale_status_0_SOLD_OUT', 'online_event_0.0', 'refund_policy_flexible', 'refund_policy_moderate', 'refund_policy_no_refunds', 'refund_policy_not_defined', 'region_AB', 'region_AL', 'region_AR', 'region_AZ', 'region_BC', 'region_CA', 'region_CO', 'region_CT', 'region_California', 'region_DC', 'region_DE', 'region_England', 'region_FL', 'region_Florida', 'region_GA', 'region_HI', 'region_IA', 'region_ID', 'region_IL', 'region_IN', 'region_KS', 'region_KY', 'region_LA', 'region_MA', 'region_MD', 'region_ME', 'region_MI', 'region_MN', 'region_MO', 'region_MS', 'region_MT', 'region_NC', 'region_ND', 'region_NE', 'region_NH', 'region_NJ', 'region_NM', 'region_NSW', 'region_NV', 'region_NY', 'region_New York', 'region_North Carolina', 'region_OH', 'region_OK', 'region_ON', 'region_OR', 'region_Ohio', 'region_Ontario', 'region_PA', 'region_QC', 'region_RI', 'region_SC', 'region_SD', 'region_TN', 'region_TX', 'region_Texas', 'region_UT', 'region_VA', 'region_VT', 'region_WA', 'region_WI', 'region_WV', 'shareable_0.0', 'start_tz_America/Boise', 'start_tz_America/Chicago', 'start_tz_America/Denver', 'start_tz_America/Detroit', 'start_tz_America/Edmonton', 'start_tz_America/Indiana/Indianapolis', 'start_tz_America/Los_Angeles', 'start_tz_America/New_York', 'start_tz_America/Phoenix', 'start_tz_America/Toronto', 'start_tz_America/Vancouver', 'start_tz_Australia/Sydney', 'start_tz_Europe/London', 'subcategory_id_-999.0', 'subcategory_id_1001.0', 'subcategory_id_1002.0', 'subcategory_id_1003.0', 'subcategory_id_1004.0', 'subcategory_id_1005.0', 'subcategory_id_1006.0', 'subcategory_id_1007.0', 'subcategory_id_1008.0', 'subcategory_id_1009.0', 'subcategory_id_1010.0', 'subcategory_id_1011.0', 'subcategory_id_1999.0', 'subcategory_id_2002.0', 'subcategory_id_2003.0', 'subcategory_id_2004.0', 'subcategory_id_2999.0', 'subcategory_id_3001.0', 'subcategory_id_3002.0', 'subcategory_id_3003.0', 'subcategory_id_3004.0', 'subcategory_id_3005.0', 'subcategory_id_3006.0', 'subcategory_id_3007.0', 'subcategory_id_3008.0', 'subcategory_id_3009.0', 'subcategory_id_3010.0', 'subcategory_id_3013.0', 'subcategory_id_3014.0', 'subcategory_id_3015.0', 'subcategory_id_3016.0', 'subcategory_id_3017.0', 'subcategory_id_3018.0', 'subcategory_id_3999.0', 'subcategory_id_4001.0', 'subcategory_id_4002.0', 'subcategory_id_4004.0', 'subcategory_id_4006.0', 'subcategory_id_4007.0', 'subcategory_id_4999.0', 'subcategory_id_5001.0', 'subcategory_id_5002.0', 'subcategory_id_5004.0', 'subcategory_id_5007.0', 'subcategory_id_5008.0', 'subcategory_id_5009.0', 'subcategory_id_5010.0', 'subcategory_id_5012.0', 'subcategory_id_5013.0', 'subcategory_id_5999.0', 'subcategory_id_6001.0', 'subcategory_id_6003.0', 'subcategory_id_6004.0', 'subcategory_id_7001.0', 'subcategory_id_7002.0', 'subcategory_id_7003.0', 'subcategory_id_7005.0', 'subcategory_id_7999.0', 'subcategory_id_8001.0', 'subcategory_id_8006.0', 'subcategory_id_8007.0', 'subcategory_id_8010.0', 'subcategory_id_8016.0', 'subcategory_id_8019.0', 'subcategory_id_8020.0', 'subcategory_id_8022.0', 'subcategory_id_8999.0', 'subcategory_id_10001.0', 'subcategory_id_10002.0', 'subcategory_id_10003.0', 'subcategory_id_10004.0', 'subcategory_id_10999.0', 'subcategory_id_11001.0', 'subcategory_id_11002.0', 'subcategory_id_11003.0', 'subcategory_id_11004.0', 'subcategory_id_11006.0', 'subcategory_id_11008.0', 'subcategory_id_11999.0', 'subcategory_id_12001.0', 'subcategory_id_12004.0', 'subcategory_id_12005.0', 'subcategory_id_12006.0', 'subcategory_id_12007.0', 'subcategory_id_12999.0', 'subcategory_id_13003.0', 'subcategory_id_13004.0', 'subcategory_id_13007.0', 'subcategory_id_13010.0', 'subcategory_id_13999.0', 'subcategory_id_14001.0', 'subcategory_id_14002.0', 'subcategory_id_15001.0', 'subcategory_id_15004.0', 'subcategory_id_15005.0', 'subcategory_id_16004.0', 'subcategory_id_16005.0', 'subcategory_id_16006.0', 'subcategory_id_16009.0', 'subcategory_id_16999.0', 'subcategory_id_17003.0', 'subcategory_id_18001.0', 'subcategory_id_19002.0', 'subcategory_id_19003.0', 'subcategory_id_19006.0', 'subcategory_id_19008.0', 'waitlist_available_0.0']\n"
     ]
    }
   ],
   "source": [
    "print(list(train.columns))"
   ]
  },
  {
   "cell_type": "code",
   "execution_count": 4,
   "metadata": {},
   "outputs": [
    {
     "data": {
      "text/plain": [
       "Index(['cost_0', 'created_dt', 'end_local_dt', 'fee_0', 'id', 'published_dt',\n",
       "       'start_local_dt', 'tax_0', 'venue_id', 'created_to_publish',\n",
       "       'publish_to_start', 'start_to_end'],\n",
       "      dtype='object')"
      ]
     },
     "execution_count": 4,
     "metadata": {},
     "output_type": "execute_result"
    }
   ],
   "source": [
    "train.columns[:12]"
   ]
  },
  {
   "cell_type": "code",
   "execution_count": 5,
   "metadata": {},
   "outputs": [
    {
     "name": "stdout",
     "output_type": "stream",
     "text": [
      "Benchmark for predicting tip percentage: 1566.8137\n"
     ]
    }
   ],
   "source": [
    "print('Benchmark for predicting tip percentage: %.4f' % train.cost_0.std())"
   ]
  },
  {
   "cell_type": "code",
   "execution_count": 6,
   "metadata": {},
   "outputs": [],
   "source": [
    "from sklearn.model_selection import train_test_split\n",
    "\n",
    "train_x = train.drop(labels=['cost_0', 'created_dt', 'end_local_dt', 'fee_0', 'id', 'published_dt',\n",
    "                             'start_local_dt', 'tax_0', 'venue_id'],axis=1)\n",
    "train_y = train['cost_0']\n",
    "X_train,X_test,y_train,y_test=train_test_split(train_x,train_y,test_size=0.2,random_state=123)"
   ]
  },
  {
   "cell_type": "code",
   "execution_count": 7,
   "metadata": {},
   "outputs": [
    {
     "name": "stdout",
     "output_type": "stream",
     "text": [
      "***Training set***\n",
      "R squared score: 0.0394\n",
      "RMSE: 11266451.6828\n",
      "\n",
      "**Test Set***\n",
      "R squared score: 0.0297\n",
      "RMSE: 11694367.6253\n",
      "\n",
      "\n",
      "\n",
      "                    feature  coefficient\n",
      "0        created_to_publish     0.000000\n",
      "1          publish_to_start    78.714014\n",
      "2              start_to_end     6.875458\n",
      "3        category_id_-999.0    13.236451\n",
      "4         category_id_101.0    19.886210\n",
      "..                      ...          ...\n",
      "247  subcategory_id_19002.0     0.000000\n",
      "248  subcategory_id_19003.0    -0.000000\n",
      "249  subcategory_id_19006.0    -0.000000\n",
      "250  subcategory_id_19008.0    -0.000000\n",
      "251  waitlist_available_0.0   -22.286370\n",
      "\n",
      "[252 rows x 2 columns]\n"
     ]
    },
    {
     "name": "stderr",
     "output_type": "stream",
     "text": [
      "/anaconda3/lib/python3.7/site-packages/sklearn/linear_model/coordinate_descent.py:471: ConvergenceWarning: Objective did not converge. You might want to increase the number of iterations. Duality gap: 23718317.079256058, tolerance: 1032128.2072922798\n",
      "  tol, rng, random, positive)\n"
     ]
    }
   ],
   "source": [
    "from sklearn.preprocessing import StandardScaler\n",
    "from sklearn.linear_model import LassoCV\n",
    "from sklearn.metrics import mean_squared_error\n",
    "\n",
    "scaler = StandardScaler()\n",
    "\n",
    "scl_model = scaler.fit(X_train.astype('float64'))\n",
    "X_train_scl = scl_model.transform(X_train.astype('float64'))\n",
    "\n",
    "l1_cv = LassoCV(cv=5,n_alphas=5)\n",
    "l1_cv.fit(X_train_scl,y_train)\n",
    "\n",
    "X_test_scl = scl_model.transform(X_test.astype('float64'))\n",
    "\n",
    "y_pred_train = l1_cv.predict(X_train)\n",
    "y_pred = l1_cv.predict(X_test)\n",
    "\n",
    "print('***Training set***')\n",
    "print('R squared score: %.4f' % l1_cv.score(X_train_scl,y_train))\n",
    "print('RMSE: %.4f' % np.sqrt(mean_squared_error(y_pred_train,y_train)))\n",
    "\n",
    "\n",
    "print('\\n**Test Set***')\n",
    "print('R squared score: %.4f' % l1_cv.score(X_test_scl,y_test))\n",
    "print('RMSE: %.4f' % np.sqrt(mean_squared_error(y_pred,y_test)))\n",
    "\n",
    "print('\\n\\n')\n",
    "print(pd.DataFrame(list(zip(X_train.columns,l1_cv.coef_)),columns=['feature','coefficient']))"
   ]
  },
  {
   "cell_type": "markdown",
   "metadata": {},
   "source": [
    "Decision Tree"
   ]
  },
  {
   "cell_type": "code",
   "execution_count": 8,
   "metadata": {},
   "outputs": [],
   "source": [
    "# Make new train and test sets using all features\n",
    "train_x = train.drop(labels=['cost_0', 'created_dt', 'end_local_dt', 'fee_0', 'id', 'published_dt',\n",
    "                             'start_local_dt', 'tax_0', 'venue_id'],axis=1)\n",
    "train_y = train['cost_0']\n",
    "\n",
    "X_train,X_test,y_train,y_test=train_test_split(train_x,train_y,test_size=0.2,random_state=123)"
   ]
  },
  {
   "cell_type": "code",
   "execution_count": 9,
   "metadata": {},
   "outputs": [
    {
     "data": {
      "image/png": "[encoded data removed]",
      "text/plain": [
       "<Figure size 360x360 with 2 Axes>"
      ]
     },
     "metadata": {
      "needs_background": "light"
     },
     "output_type": "display_data"
    },
    {
     "name": "stdout",
     "output_type": "stream",
     "text": [
      "Best parameters:  {'max_depth': 14.0, 'min_samples_leaf': 215}\n",
      "Train RMSE: 1300.4416\n",
      "Test RMSE: 2251.4255\n"
     ]
    }
   ],
   "source": [
    "from sklearn.tree import DecisionTreeRegressor\n",
    "from sklearn.model_selection import GridSearchCV\n",
    "\n",
    "\n",
    "def simple_tree(max_depth,min_samples_leaf):\n",
    "    parameters={'max_depth':max_depth, 'min_samples_leaf':min_samples_leaf}\n",
    "\n",
    "    # Create and fit decition tree\n",
    "    dt = DecisionTreeRegressor()\n",
    "    dt_reg = GridSearchCV(dt, parameters,cv=3)\n",
    "    dt_reg.fit(X_train,y_train)\n",
    "\n",
    "    # Plot heat map of R^2 scores\n",
    "    scores = dt_reg.cv_results_['mean_test_score'].reshape(len(max_depth),len(min_samples_leaf))\n",
    "\n",
    "    plt.figure(figsize=(5,5))\n",
    "    plt.imshow(scores,cmap=plt.cm.inferno)\n",
    "    plt.xlabel('min_samples_leaf')\n",
    "    plt.ylabel('max_depth')\n",
    "    plt.xticks(np.arange(len(min_samples_leaf)),min_samples_leaf)\n",
    "    plt.yticks(np.arange(len(max_depth)),max_depth)\n",
    "    plt.colorbar()\n",
    "\n",
    "    for i in range(len(max_depth)):\n",
    "        for j in range(len(min_samples_leaf)):\n",
    "            text = plt.text(j, i, scores[i, j].round(3),\n",
    "                           horizontalalignment=\"center\",\n",
    "                           verticalalignment=\"center\",\n",
    "                           color=\"g\")\n",
    "\n",
    "    plt.title('Grid Search Results (R^2 score)')\n",
    "    plt.show()\n",
    "\n",
    "\n",
    "    print('Best parameters: ',dt_reg.best_params_)\n",
    "\n",
    "    y_pred_train = dt_reg.predict(X_train)\n",
    "    y_pred = dt_reg.predict(X_test)\n",
    "    print('Train RMSE: %.4f' %np.sqrt(mean_squared_error(y_pred_train,y_train)))\n",
    "    print('Test RMSE: %.4f' % np.sqrt(mean_squared_error(y_pred,y_test)))\n",
    "\n",
    "# Set values to test in grid search\n",
    "max_depth = np.floor(np.linspace(4,20,num=4))\n",
    "min_samples_leaf = list(map(int,np.logspace(1.0,3.0,num=4)))\n",
    "\n",
    "simple_tree(max_depth,min_samples_leaf)"
   ]
  },
  {
   "cell_type": "code",
   "execution_count": 10,
   "metadata": {},
   "outputs": [
    {
     "data": {
      "image/png": "[encoded data removed]",
      "text/plain": [
       "<Figure size 360x360 with 2 Axes>"
      ]
     },
     "metadata": {
      "needs_background": "light"
     },
     "output_type": "display_data"
    },
    {
     "name": "stdout",
     "output_type": "stream",
     "text": [
      "Best parameters:  {'max_depth': 4.0, 'min_samples_leaf': 316}\n",
      "Train RMSE: 1309.3193\n",
      "Test RMSE: 2257.4383\n"
     ]
    }
   ],
   "source": [
    "max_depth = np.floor(np.linspace(4,20,num=4))\n",
    "min_samples_leaf = list(map(int,np.logspace(2.5,4.5,num=4)))\n",
    "\n",
    "simple_tree(max_depth,min_samples_leaf)"
   ]
  },
  {
   "cell_type": "markdown",
   "metadata": {},
   "source": [
    "Random Forest"
   ]
  },
  {
   "cell_type": "code",
   "execution_count": 11,
   "metadata": {},
   "outputs": [
    {
     "data": {
      "image/png": "[encoded data removed]",
      "text/plain": [
       "<Figure size 360x360 with 2 Axes>"
      ]
     },
     "metadata": {
      "needs_background": "light"
     },
     "output_type": "display_data"
    },
    {
     "name": "stdout",
     "output_type": "stream",
     "text": [
      "Best parameters:  {'max_depth': 9.0, 'min_samples_leaf': 10}\n",
      "Train RMSE: 1296.7322\n",
      "Test RMSE: 2248.4891\n"
     ]
    }
   ],
   "source": [
    "from sklearn.ensemble import RandomForestRegressor\n",
    "\n",
    "def randomforest(max_depth,min_samples_leaf):\n",
    "    parameters={'max_depth':max_depth, 'min_samples_leaf':min_samples_leaf}\n",
    "    \n",
    "    # Create and fit random forest\n",
    "    rf = RandomForestRegressor(n_estimators=10,max_features='sqrt')\n",
    "    rf = GridSearchCV(rf, parameters,cv=3)\n",
    "    rf.fit(X_train,y_train)\n",
    "\n",
    "    scores = rf.cv_results_['mean_test_score'].reshape(len(max_depth),len(min_samples_leaf))\n",
    "\n",
    "    # Plot heatmap of R^2 values\n",
    "    plt.figure(figsize=(5,5))\n",
    "    plt.imshow(scores,cmap=plt.cm.inferno)\n",
    "    plt.xlabel('min_samples_leaf')\n",
    "    plt.ylabel('max_depth')\n",
    "    plt.xticks(np.arange(len(min_samples_leaf)),min_samples_leaf)\n",
    "    plt.yticks(np.arange(len(max_depth)),max_depth)\n",
    "    plt.colorbar()\n",
    "\n",
    "    for i in range(len(max_depth)):\n",
    "        for j in range(len(min_samples_leaf)):\n",
    "            text = plt.text(j, i, scores[i, j].round(3),\n",
    "                           horizontalalignment=\"center\",\n",
    "                           verticalalignment=\"center\",\n",
    "                           color=\"g\")\n",
    "\n",
    "    plt.title('Grid Search Results (R^2 score)')\n",
    "    plt.show()\n",
    "\n",
    "    print('Best parameters: ',rf.best_params_)\n",
    "\n",
    "    y_pred_train = rf.predict(X_train)\n",
    "    y_pred = rf.predict(X_test)\n",
    "    print('Train RMSE: %.4f' %np.sqrt(mean_squared_error(y_pred_train,y_train)))\n",
    "    print('Test RMSE: %.4f' % np.sqrt(mean_squared_error(y_pred,y_test)))\n",
    "\n",
    "    pd.DataFrame(list(zip(X_train.columns,rf.best_estimator_.feature_importances_)))\n",
    "    \n",
    "max_depth = np.floor(np.linspace(4,20,num=4))\n",
    "min_samples_leaf = list(map(int,np.floor(np.logspace(1.0,3.0,num=4))))\n",
    "\n",
    "randomforest(max_depth,min_samples_leaf)"
   ]
  },
  {
   "cell_type": "code",
   "execution_count": 12,
   "metadata": {},
   "outputs": [
    {
     "data": {
      "image/png": "[encoded data removed]",
      "text/plain": [
       "<Figure size 360x360 with 2 Axes>"
      ]
     },
     "metadata": {
      "needs_background": "light"
     },
     "output_type": "display_data"
    },
    {
     "name": "stdout",
     "output_type": "stream",
     "text": [
      "Best parameters:  {'max_depth': 7.0, 'min_samples_leaf': 10}\n",
      "Train RMSE: 1292.0580\n",
      "Test RMSE: 2234.0617\n"
     ]
    }
   ],
   "source": [
    "max_depth = np.floor(np.linspace(3,10,num=4))\n",
    "min_samples_leaf = list(map(int,np.floor(np.logspace(0.5,2,num=4))))\n",
    "\n",
    "randomforest(max_depth,min_samples_leaf)"
   ]
  },
  {
   "cell_type": "markdown",
   "metadata": {},
   "source": [
    "Gradient boosted trees"
   ]
  },
  {
   "cell_type": "code",
   "execution_count": 13,
   "metadata": {},
   "outputs": [
    {
     "name": "stdout",
     "output_type": "stream",
     "text": [
      "Train RMSE: 242.7870\n",
      "Test RMSE: 2248.8108\n",
      "\n",
      "Feature Importances\n",
      "                          0         1\n",
      "0        created_to_publish  0.082645\n",
      "1          publish_to_start  0.148383\n",
      "2              start_to_end  0.047577\n",
      "3        category_id_-999.0  0.088124\n",
      "4         category_id_101.0  0.001406\n",
      "..                      ...       ...\n",
      "247  subcategory_id_19002.0  0.000000\n",
      "248  subcategory_id_19003.0  0.000000\n",
      "249  subcategory_id_19006.0  0.000000\n",
      "250  subcategory_id_19008.0  0.000000\n",
      "251  waitlist_available_0.0  0.036692\n",
      "\n",
      "[252 rows x 2 columns]\n"
     ]
    },
    {
     "data": {
      "image/png": "[encoded data removed]",
      "text/plain": [
       "<Figure size 432x288 with 1 Axes>"
      ]
     },
     "metadata": {
      "needs_background": "light"
     },
     "output_type": "display_data"
    }
   ],
   "source": [
    "from sklearn.ensemble import GradientBoostingRegressor\n",
    "from sklearn.metrics import mean_squared_error\n",
    "\n",
    "def gradientBoostedTrees(n_estimators,learning_rate,max_depth):\n",
    "    gbr=GradientBoostingRegressor(loss='ls', learning_rate=lr, n_estimators=n_est, subsample=1, max_depth =6)\n",
    "    est=gbr.fit(X_train,y_train)\n",
    "\n",
    "    #plot the train loss vs. iteration\n",
    "    n = np.arange(n_est)+1\n",
    "    plt.plot(n, est.train_score_,'r-')\n",
    "    plt.ylabel('Training Loss')\n",
    "    plt.xlabel('Iteration')\n",
    "\n",
    "    y_pred_train = gbr.predict(X_train)\n",
    "    y_pred = gbr.predict(X_test)\n",
    "    print('Train RMSE: %.4f' %np.sqrt(mean_squared_error(y_pred_train,y_train)))\n",
    "    print('Test RMSE: %.4f' % np.sqrt(mean_squared_error(y_pred,y_test)))\n",
    "    \n",
    "    print('\\nFeature Importances')\n",
    "    print(pd.DataFrame(list(zip(X_train.columns,gbr.feature_importances_))))\n",
    "\n",
    "n_est=100\n",
    "lr=0.1\n",
    "max_depth=6\n",
    "\n",
    "gradientBoostedTrees(n_est,lr,max_depth)"
   ]
  },
  {
   "cell_type": "markdown",
   "metadata": {},
   "source": [
    "## Try just one category | 108: Business & Professional"
   ]
  },
  {
   "cell_type": "code",
   "execution_count": 14,
   "metadata": {},
   "outputs": [],
   "source": [
    "train = train.loc[train['category_id_101.0']==1]"
   ]
  },
  {
   "cell_type": "code",
   "execution_count": 15,
   "metadata": {},
   "outputs": [
    {
     "data": {
      "text/plain": [
       "(2370, 261)"
      ]
     },
     "execution_count": 15,
     "metadata": {},
     "output_type": "execute_result"
    }
   ],
   "source": [
    "train.shape"
   ]
  },
  {
   "cell_type": "code",
   "execution_count": 16,
   "metadata": {},
   "outputs": [
    {
     "data": {
      "text/plain": [
       "784.8923309918309"
      ]
     },
     "execution_count": 16,
     "metadata": {},
     "output_type": "execute_result"
    }
   ],
   "source": [
    "train.cost_0.std()"
   ]
  },
  {
   "cell_type": "code",
   "execution_count": 17,
   "metadata": {},
   "outputs": [],
   "source": [
    "from sklearn.model_selection import train_test_split\n",
    "\n",
    "train_x = train.drop(labels=['cost_0', 'created_dt', 'end_local_dt', 'fee_0', 'id', 'published_dt',\n",
    "                             'start_local_dt', 'tax_0', 'venue_id','category_id_101.0'],axis=1)\n",
    "train_y = train['cost_0']\n",
    "X_train,X_test,y_train,y_test=train_test_split(train_x,train_y,test_size=0.2,random_state=123)"
   ]
  },
  {
   "cell_type": "code",
   "execution_count": 18,
   "metadata": {},
   "outputs": [
    {
     "name": "stdout",
     "output_type": "stream",
     "text": [
      "***Training set***\n",
      "R squared score: 0.0741\n",
      "RMSE: 15917991.9225\n",
      "\n",
      "**Test Set***\n",
      "R squared score: 0.0651\n",
      "RMSE: 18082677.5891\n",
      "\n",
      "\n",
      "\n",
      "                    feature  coefficient\n",
      "0        created_to_publish    -0.000000\n",
      "1          publish_to_start    92.441464\n",
      "2              start_to_end    -0.000000\n",
      "3        category_id_-999.0     0.000000\n",
      "4         category_id_102.0     0.000000\n",
      "..                      ...          ...\n",
      "246  subcategory_id_19002.0     0.000000\n",
      "247  subcategory_id_19003.0     0.000000\n",
      "248  subcategory_id_19006.0     0.000000\n",
      "249  subcategory_id_19008.0     0.000000\n",
      "250  waitlist_available_0.0    -0.000000\n",
      "\n",
      "[251 rows x 2 columns]\n"
     ]
    },
    {
     "name": "stderr",
     "output_type": "stream",
     "text": [
      "/anaconda3/lib/python3.7/site-packages/sklearn/linear_model/coordinate_descent.py:471: ConvergenceWarning: Objective did not converge. You might want to increase the number of iterations. Duality gap: 17184368.42098856, tolerance: 105811.60253115633\n",
      "  tol, rng, random, positive)\n"
     ]
    }
   ],
   "source": [
    "from sklearn.preprocessing import StandardScaler\n",
    "from sklearn.linear_model import LassoCV\n",
    "from sklearn.metrics import mean_squared_error\n",
    "\n",
    "scaler = StandardScaler()\n",
    "\n",
    "scl_model = scaler.fit(X_train.astype('float64'))\n",
    "X_train_scl = scl_model.transform(X_train.astype('float64'))\n",
    "\n",
    "l1_cv = LassoCV(cv=5,n_alphas=5)\n",
    "l1_cv.fit(X_train_scl,y_train)\n",
    "\n",
    "X_test_scl = scl_model.transform(X_test.astype('float64'))\n",
    "\n",
    "y_pred_train = l1_cv.predict(X_train)\n",
    "y_pred = l1_cv.predict(X_test)\n",
    "\n",
    "print('***Training set***')\n",
    "print('R squared score: %.4f' % l1_cv.score(X_train_scl,y_train))\n",
    "print('RMSE: %.4f' % np.sqrt(mean_squared_error(y_pred_train,y_train)))\n",
    "\n",
    "\n",
    "print('\\n**Test Set***')\n",
    "print('R squared score: %.4f' % l1_cv.score(X_test_scl,y_test))\n",
    "print('RMSE: %.4f' % np.sqrt(mean_squared_error(y_pred,y_test)))\n",
    "\n",
    "print('\\n\\n')\n",
    "print(pd.DataFrame(list(zip(X_train.columns,l1_cv.coef_)),columns=['feature','coefficient']))"
   ]
  },
  {
   "cell_type": "code",
   "execution_count": 19,
   "metadata": {},
   "outputs": [
    {
     "data": {
      "image/png": "[encoded data removed]",
      "text/plain": [
       "<Figure size 360x360 with 2 Axes>"
      ]
     },
     "metadata": {
      "needs_background": "light"
     },
     "output_type": "display_data"
    },
    {
     "name": "stdout",
     "output_type": "stream",
     "text": [
      "Best parameters:  {'max_depth': 4.0, 'min_samples_leaf': 215}\n",
      "Train RMSE: 759.9431\n",
      "Test RMSE: 721.7586\n"
     ]
    }
   ],
   "source": [
    "from sklearn.tree import DecisionTreeRegressor\n",
    "from sklearn.model_selection import GridSearchCV\n",
    "\n",
    "\n",
    "def simple_tree(max_depth,min_samples_leaf):\n",
    "    parameters={'max_depth':max_depth, 'min_samples_leaf':min_samples_leaf}\n",
    "\n",
    "    # Create and fit decition tree\n",
    "    dt = DecisionTreeRegressor()\n",
    "    dt_reg = GridSearchCV(dt, parameters,cv=3)\n",
    "    dt_reg.fit(X_train,y_train)\n",
    "\n",
    "    # Plot heat map of R^2 scores\n",
    "    scores = dt_reg.cv_results_['mean_test_score'].reshape(len(max_depth),len(min_samples_leaf))\n",
    "\n",
    "    plt.figure(figsize=(5,5))\n",
    "    plt.imshow(scores,cmap=plt.cm.inferno)\n",
    "    plt.xlabel('min_samples_leaf')\n",
    "    plt.ylabel('max_depth')\n",
    "    plt.xticks(np.arange(len(min_samples_leaf)),min_samples_leaf)\n",
    "    plt.yticks(np.arange(len(max_depth)),max_depth)\n",
    "    plt.colorbar()\n",
    "\n",
    "    for i in range(len(max_depth)):\n",
    "        for j in range(len(min_samples_leaf)):\n",
    "            text = plt.text(j, i, scores[i, j].round(3),\n",
    "                           horizontalalignment=\"center\",\n",
    "                           verticalalignment=\"center\",\n",
    "                           color=\"g\")\n",
    "\n",
    "    plt.title('Grid Search Results (R^2 score)')\n",
    "    plt.show()\n",
    "\n",
    "\n",
    "    print('Best parameters: ',dt_reg.best_params_)\n",
    "\n",
    "    y_pred_train = dt_reg.predict(X_train)\n",
    "    y_pred = dt_reg.predict(X_test)\n",
    "    print('Train RMSE: %.4f' %np.sqrt(mean_squared_error(y_pred_train,y_train)))\n",
    "    print('Test RMSE: %.4f' % np.sqrt(mean_squared_error(y_pred,y_test)))\n",
    "\n",
    "# Set values to test in grid search\n",
    "max_depth = np.floor(np.linspace(4,20,num=4))\n",
    "min_samples_leaf = list(map(int,np.logspace(1.0,3.0,num=4)))\n",
    "\n",
    "simple_tree(max_depth,min_samples_leaf)"
   ]
  },
  {
   "cell_type": "code",
   "execution_count": 20,
   "metadata": {},
   "outputs": [
    {
     "data": {
      "image/png": "[encoded data removed]",
      "text/plain": [
       "<Figure size 360x360 with 2 Axes>"
      ]
     },
     "metadata": {
      "needs_background": "light"
     },
     "output_type": "display_data"
    },
    {
     "name": "stdout",
     "output_type": "stream",
     "text": [
      "Best parameters:  {'max_depth': 2.0, 'min_samples_leaf': 100}\n",
      "Train RMSE: 755.2103\n",
      "Test RMSE: 723.6980\n"
     ]
    }
   ],
   "source": [
    "# Set values to test in grid search\n",
    "max_depth = np.floor(np.linspace(2,10,num=4))\n",
    "min_samples_leaf = list(map(int,np.logspace(2.0,3.5,num=4)))\n",
    "\n",
    "simple_tree(max_depth,min_samples_leaf)"
   ]
  },
  {
   "cell_type": "code",
   "execution_count": 21,
   "metadata": {},
   "outputs": [
    {
     "name": "stdout",
     "output_type": "stream",
     "text": [
      "Train RMSE: 96.7462\n",
      "Test RMSE: 735.1988\n",
      "\n",
      "Feature Importances\n",
      "                          0         1\n",
      "0        created_to_publish  0.046794\n",
      "1          publish_to_start  0.350744\n",
      "2              start_to_end  0.201103\n",
      "3        category_id_-999.0  0.000000\n",
      "4         category_id_102.0  0.000000\n",
      "..                      ...       ...\n",
      "246  subcategory_id_19002.0  0.000000\n",
      "247  subcategory_id_19003.0  0.000000\n",
      "248  subcategory_id_19006.0  0.000000\n",
      "249  subcategory_id_19008.0  0.000000\n",
      "250  waitlist_available_0.0  0.000854\n",
      "\n",
      "[251 rows x 2 columns]\n"
     ]
    },
    {
     "data": {
      "image/png": "[encoded data removed]",
      "text/plain": [
       "<Figure size 432x288 with 1 Axes>"
      ]
     },
     "metadata": {
      "needs_background": "light"
     },
     "output_type": "display_data"
    }
   ],
   "source": [
    "from sklearn.ensemble import GradientBoostingRegressor\n",
    "from sklearn.metrics import mean_squared_error\n",
    "\n",
    "def gradientBoostedTrees(n_estimators,learning_rate,max_depth):\n",
    "    gbt=GradientBoostingRegressor(loss='ls', learning_rate=lr, n_estimators=n_est, subsample=1, max_depth =6)\n",
    "    est=gbt.fit(X_train,y_train)\n",
    "\n",
    "    #plot the train loss vs. iteration\n",
    "    n = np.arange(n_est)+1\n",
    "    plt.plot(n, est.train_score_,'r-')\n",
    "    plt.ylabel('Training Loss')\n",
    "    plt.xlabel('Iteration')\n",
    "\n",
    "    y_pred_train = gbt.predict(X_train)\n",
    "    y_pred = gbt.predict(X_test)\n",
    "    print('Train RMSE: %.4f' %np.sqrt(mean_squared_error(y_pred_train,y_train)))\n",
    "    print('Test RMSE: %.4f' % np.sqrt(mean_squared_error(y_pred,y_test)))\n",
    "    \n",
    "    print('\\nFeature Importances')\n",
    "    print(pd.DataFrame(list(zip(X_train.columns,gbt.feature_importances_))))\n",
    "    \n",
    "    return gbt\n",
    "\n",
    "n_est=100\n",
    "lr=0.1\n",
    "max_depth=6\n",
    "\n",
    "gbt = gradientBoostedTrees(n_est,lr,max_depth)"
   ]
  },
  {
   "cell_type": "code",
   "execution_count": 22,
   "metadata": {},
   "outputs": [],
   "source": [
    "import pickle\n",
    "\n",
    "pkl_filename = 'RightPrice_GBT_model.pkl'\n",
    "with open(pkl_filename, 'wb') as file:\n",
    "    pickle.dump(gbt, file)"
   ]
  },
  {
   "cell_type": "code",
   "execution_count": 23,
   "metadata": {},
   "outputs": [
    {
     "name": "stdout",
     "output_type": "stream",
     "text": [
      "0.0397807237667801\n",
      "735.1988439216321\n"
     ]
    }
   ],
   "source": [
    "with open(pkl_filename, 'rb') as file:\n",
    "    pickle_model = pickle.load(file)\n",
    "\n",
    "score = pickle_model.score(X_test,y_test)\n",
    "print(score)\n",
    "Ypredict = pickle_model.predict(X_test)\n",
    "print(np.sqrt(mean_squared_error(Ypredict,y_test)))"
   ]
  },
  {
   "cell_type": "code",
   "execution_count": null,
   "metadata": {},
   "outputs": [],
   "source": []
  }
 ],
 "metadata": {
  "kernelspec": {
   "display_name": "Python 3",
   "language": "python",
   "name": "python3"
  },
  "language_info": {
   "codemirror_mode": {
    "name": "ipython",
    "version": 3
   },
   "file_extension": ".py",
   "mimetype": "text/x-python",
   "name": "python",
   "nbconvert_exporter": "python",
   "pygments_lexer": "ipython3",
   "version": "3.7.3"
  }
 },
 "nbformat": 4,
 "nbformat_minor": 2
}

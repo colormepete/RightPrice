{
 "cells": [
  {
   "cell_type": "code",
   "execution_count": 1,
   "metadata": {},
   "outputs": [],
   "source": [
    "import pandas as pd\n",
    "import numpy as np\n",
    "import matplotlib.pyplot as plt\n",
    "\n",
    "%matplotlib inline"
   ]
  },
  {
   "cell_type": "code",
   "execution_count": 2,
   "metadata": {},
   "outputs": [
    {
     "data": {
      "text/html": [
       "<div>\n",
       "<style scoped>\n",
       "    .dataframe tbody tr th:only-of-type {\n",
       "        vertical-align: middle;\n",
       "    }\n",
       "\n",
       "    .dataframe tbody tr th {\n",
       "        vertical-align: top;\n",
       "    }\n",
       "\n",
       "    .dataframe thead th {\n",
       "        text-align: right;\n",
       "    }\n",
       "</style>\n",
       "<table border=\"1\" class=\"dataframe\">\n",
       "  <thead>\n",
       "    <tr style=\"text-align: right;\">\n",
       "      <th></th>\n",
       "      <th>cost_0</th>\n",
       "      <th>created_dt</th>\n",
       "      <th>end_local_dt</th>\n",
       "      <th>fee_0</th>\n",
       "      <th>id</th>\n",
       "      <th>published_dt</th>\n",
       "      <th>start_local_dt</th>\n",
       "      <th>tax_0</th>\n",
       "      <th>venue_id</th>\n",
       "      <th>created_to_publish</th>\n",
       "      <th>...</th>\n",
       "      <th>subcategory_id_17999.0</th>\n",
       "      <th>subcategory_id_18001.0</th>\n",
       "      <th>subcategory_id_18003.0</th>\n",
       "      <th>subcategory_id_19002.0</th>\n",
       "      <th>subcategory_id_19003.0</th>\n",
       "      <th>subcategory_id_19004.0</th>\n",
       "      <th>subcategory_id_19006.0</th>\n",
       "      <th>subcategory_id_19007.0</th>\n",
       "      <th>subcategory_id_19008.0</th>\n",
       "      <th>waitlist_available_0.0</th>\n",
       "    </tr>\n",
       "    <tr>\n",
       "      <th>index</th>\n",
       "      <th></th>\n",
       "      <th></th>\n",
       "      <th></th>\n",
       "      <th></th>\n",
       "      <th></th>\n",
       "      <th></th>\n",
       "      <th></th>\n",
       "      <th></th>\n",
       "      <th></th>\n",
       "      <th></th>\n",
       "      <th></th>\n",
       "      <th></th>\n",
       "      <th></th>\n",
       "      <th></th>\n",
       "      <th></th>\n",
       "      <th></th>\n",
       "      <th></th>\n",
       "      <th></th>\n",
       "      <th></th>\n",
       "      <th></th>\n",
       "      <th></th>\n",
       "    </tr>\n",
       "  </thead>\n",
       "  <tbody>\n",
       "    <tr>\n",
       "      <th>28486</th>\n",
       "      <td>150.0</td>\n",
       "      <td>2019-05-22 13:18:29</td>\n",
       "      <td>2019-06-17 17:00:00</td>\n",
       "      <td>0.0</td>\n",
       "      <td>62255186940</td>\n",
       "      <td>2019-05-22 13:24:07</td>\n",
       "      <td>2019-06-17 08:45:00</td>\n",
       "      <td>0.0</td>\n",
       "      <td>32553467.0</td>\n",
       "      <td>5.0</td>\n",
       "      <td>...</td>\n",
       "      <td>0.0</td>\n",
       "      <td>0.0</td>\n",
       "      <td>0.0</td>\n",
       "      <td>0.0</td>\n",
       "      <td>0.0</td>\n",
       "      <td>0.0</td>\n",
       "      <td>0.0</td>\n",
       "      <td>0.0</td>\n",
       "      <td>0.0</td>\n",
       "      <td>1.0</td>\n",
       "    </tr>\n",
       "    <tr>\n",
       "      <th>28487</th>\n",
       "      <td>0.0</td>\n",
       "      <td>2019-04-28 01:02:25</td>\n",
       "      <td>2019-06-18 05:00:00</td>\n",
       "      <td>0.0</td>\n",
       "      <td>60984042914</td>\n",
       "      <td>2019-04-28 01:02:31</td>\n",
       "      <td>2019-06-17 22:30:00</td>\n",
       "      <td>0.0</td>\n",
       "      <td>20561311.0</td>\n",
       "      <td>0.0</td>\n",
       "      <td>...</td>\n",
       "      <td>0.0</td>\n",
       "      <td>0.0</td>\n",
       "      <td>0.0</td>\n",
       "      <td>0.0</td>\n",
       "      <td>0.0</td>\n",
       "      <td>0.0</td>\n",
       "      <td>0.0</td>\n",
       "      <td>0.0</td>\n",
       "      <td>0.0</td>\n",
       "      <td>1.0</td>\n",
       "    </tr>\n",
       "    <tr>\n",
       "      <th>28488</th>\n",
       "      <td>0.0</td>\n",
       "      <td>2019-05-09 15:39:34</td>\n",
       "      <td>2019-06-17 11:00:00</td>\n",
       "      <td>0.0</td>\n",
       "      <td>61647219493</td>\n",
       "      <td>2019-05-09 16:14:05</td>\n",
       "      <td>2019-06-17 10:00:00</td>\n",
       "      <td>0.0</td>\n",
       "      <td>-999.0</td>\n",
       "      <td>34.0</td>\n",
       "      <td>...</td>\n",
       "      <td>0.0</td>\n",
       "      <td>0.0</td>\n",
       "      <td>0.0</td>\n",
       "      <td>0.0</td>\n",
       "      <td>0.0</td>\n",
       "      <td>0.0</td>\n",
       "      <td>0.0</td>\n",
       "      <td>0.0</td>\n",
       "      <td>0.0</td>\n",
       "      <td>1.0</td>\n",
       "    </tr>\n",
       "    <tr>\n",
       "      <th>28490</th>\n",
       "      <td>0.0</td>\n",
       "      <td>2019-02-07 20:21:27</td>\n",
       "      <td>2019-06-21 12:30:00</td>\n",
       "      <td>0.0</td>\n",
       "      <td>56139579995</td>\n",
       "      <td>2019-02-07 20:24:04</td>\n",
       "      <td>2019-06-17 11:00:00</td>\n",
       "      <td>0.0</td>\n",
       "      <td>13776130.0</td>\n",
       "      <td>2.0</td>\n",
       "      <td>...</td>\n",
       "      <td>0.0</td>\n",
       "      <td>0.0</td>\n",
       "      <td>0.0</td>\n",
       "      <td>0.0</td>\n",
       "      <td>0.0</td>\n",
       "      <td>0.0</td>\n",
       "      <td>0.0</td>\n",
       "      <td>0.0</td>\n",
       "      <td>0.0</td>\n",
       "      <td>0.0</td>\n",
       "    </tr>\n",
       "    <tr>\n",
       "      <th>28492</th>\n",
       "      <td>150.0</td>\n",
       "      <td>2019-03-10 18:01:17</td>\n",
       "      <td>2019-06-16 22:00:00</td>\n",
       "      <td>0.0</td>\n",
       "      <td>58532918535</td>\n",
       "      <td>2019-03-10 19:34:26</td>\n",
       "      <td>2019-03-10 16:00:00</td>\n",
       "      <td>0.0</td>\n",
       "      <td>17981414.0</td>\n",
       "      <td>93.0</td>\n",
       "      <td>...</td>\n",
       "      <td>0.0</td>\n",
       "      <td>0.0</td>\n",
       "      <td>0.0</td>\n",
       "      <td>0.0</td>\n",
       "      <td>0.0</td>\n",
       "      <td>0.0</td>\n",
       "      <td>0.0</td>\n",
       "      <td>0.0</td>\n",
       "      <td>0.0</td>\n",
       "      <td>1.0</td>\n",
       "    </tr>\n",
       "  </tbody>\n",
       "</table>\n",
       "<p>5 rows × 290 columns</p>\n",
       "</div>"
      ],
      "text/plain": [
       "       cost_0           created_dt         end_local_dt  fee_0           id  \\\n",
       "index                                                                         \n",
       "28486   150.0  2019-05-22 13:18:29  2019-06-17 17:00:00    0.0  62255186940   \n",
       "28487     0.0  2019-04-28 01:02:25  2019-06-18 05:00:00    0.0  60984042914   \n",
       "28488     0.0  2019-05-09 15:39:34  2019-06-17 11:00:00    0.0  61647219493   \n",
       "28490     0.0  2019-02-07 20:21:27  2019-06-21 12:30:00    0.0  56139579995   \n",
       "28492   150.0  2019-03-10 18:01:17  2019-06-16 22:00:00    0.0  58532918535   \n",
       "\n",
       "              published_dt       start_local_dt  tax_0    venue_id  \\\n",
       "index                                                                \n",
       "28486  2019-05-22 13:24:07  2019-06-17 08:45:00    0.0  32553467.0   \n",
       "28487  2019-04-28 01:02:31  2019-06-17 22:30:00    0.0  20561311.0   \n",
       "28488  2019-05-09 16:14:05  2019-06-17 10:00:00    0.0      -999.0   \n",
       "28490  2019-02-07 20:24:04  2019-06-17 11:00:00    0.0  13776130.0   \n",
       "28492  2019-03-10 19:34:26  2019-03-10 16:00:00    0.0  17981414.0   \n",
       "\n",
       "       created_to_publish  ...  subcategory_id_17999.0  \\\n",
       "index                      ...                           \n",
       "28486                 5.0  ...                     0.0   \n",
       "28487                 0.0  ...                     0.0   \n",
       "28488                34.0  ...                     0.0   \n",
       "28490                 2.0  ...                     0.0   \n",
       "28492                93.0  ...                     0.0   \n",
       "\n",
       "       subcategory_id_18001.0  subcategory_id_18003.0  subcategory_id_19002.0  \\\n",
       "index                                                                           \n",
       "28486                     0.0                     0.0                     0.0   \n",
       "28487                     0.0                     0.0                     0.0   \n",
       "28488                     0.0                     0.0                     0.0   \n",
       "28490                     0.0                     0.0                     0.0   \n",
       "28492                     0.0                     0.0                     0.0   \n",
       "\n",
       "       subcategory_id_19003.0  subcategory_id_19004.0  subcategory_id_19006.0  \\\n",
       "index                                                                           \n",
       "28486                     0.0                     0.0                     0.0   \n",
       "28487                     0.0                     0.0                     0.0   \n",
       "28488                     0.0                     0.0                     0.0   \n",
       "28490                     0.0                     0.0                     0.0   \n",
       "28492                     0.0                     0.0                     0.0   \n",
       "\n",
       "       subcategory_id_19007.0  subcategory_id_19008.0  waitlist_available_0.0  \n",
       "index                                                                          \n",
       "28486                     0.0                     0.0                     1.0  \n",
       "28487                     0.0                     0.0                     1.0  \n",
       "28488                     0.0                     0.0                     1.0  \n",
       "28490                     0.0                     0.0                     0.0  \n",
       "28492                     0.0                     0.0                     1.0  \n",
       "\n",
       "[5 rows x 290 columns]"
      ]
     },
     "execution_count": 2,
     "metadata": {},
     "output_type": "execute_result"
    }
   ],
   "source": [
    "train = pd.read_csv('event_df_cleaned.csv',index_col='index')\n",
    "train.tail()"
   ]
  },
  {
   "cell_type": "code",
   "execution_count": 3,
   "metadata": {},
   "outputs": [
    {
     "data": {
      "text/plain": [
       "country_AU       33.0\n",
       "country_CA      656.0\n",
       "country_GB      159.0\n",
       "country_NL       21.0\n",
       "country_US    24738.0\n",
       "dtype: float64"
      ]
     },
     "execution_count": 3,
     "metadata": {},
     "output_type": "execute_result"
    }
   ],
   "source": [
    "train[train.columns[pd.Series(train.columns).str.startswith('country_')]].sum()"
   ]
  },
  {
   "cell_type": "code",
   "execution_count": 4,
   "metadata": {},
   "outputs": [
    {
     "name": "stdout",
     "output_type": "stream",
     "text": [
      "(25845, 290)\n",
      "country_AU        0.0\n",
      "country_CA        0.0\n",
      "country_GB        0.0\n",
      "country_NL        0.0\n",
      "country_US    24738.0\n",
      "dtype: float64\n",
      "(24738, 287)\n"
     ]
    }
   ],
   "source": [
    "print(train.shape)\n",
    "train = train.loc[train.country_US == 1]\n",
    "print(train[train.columns[pd.Series(train.columns).str.startswith('country_')]].sum())\n",
    "train = train.drop(labels=['country_AU','country_CA','country_GB'],axis=1)\n",
    "print(train.shape)"
   ]
  },
  {
   "cell_type": "code",
   "execution_count": 5,
   "metadata": {},
   "outputs": [
    {
     "name": "stdout",
     "output_type": "stream",
     "text": [
      "(24738, 287)\n",
      "(24738, 283)\n"
     ]
    }
   ],
   "source": [
    "print(train.shape)\n",
    "train = train.drop(labels=['currency_AUD', 'currency_CAD', 'currency_EUR', 'currency_GBP'],axis=1)\n",
    "print(train.shape)"
   ]
  },
  {
   "cell_type": "code",
   "execution_count": 6,
   "metadata": {},
   "outputs": [
    {
     "name": "stdout",
     "output_type": "stream",
     "text": [
      "refund_policy_flexible        1473.0\n",
      "refund_policy_moderate        2537.0\n",
      "refund_policy_no_refunds      9473.0\n",
      "refund_policy_not_defined    10676.0\n",
      "dtype: float64\n"
     ]
    }
   ],
   "source": [
    "print(train[train.columns[pd.Series(train.columns).str.startswith('refund_policy_')]].sum())"
   ]
  },
  {
   "cell_type": "code",
   "execution_count": 7,
   "metadata": {},
   "outputs": [
    {
     "name": "stdout",
     "output_type": "stream",
     "text": [
      "['cost_0', 'created_dt', 'end_local_dt', 'fee_0', 'id', 'published_dt', 'start_local_dt', 'tax_0', 'venue_id', 'created_to_publish', 'publish_to_start', 'start_to_end', 'category_id_-999.0', 'category_id_101.0', 'category_id_102.0', 'category_id_103.0', 'category_id_104.0', 'category_id_105.0', 'category_id_106.0', 'category_id_107.0', 'category_id_108.0', 'category_id_109.0', 'category_id_110.0', 'category_id_111.0', 'category_id_112.0', 'category_id_113.0', 'category_id_114.0', 'category_id_115.0', 'category_id_116.0', 'category_id_117.0', 'category_id_118.0', 'category_id_119.0', 'category_id_120.0', 'country_NL', 'country_US', 'currency_PHP', 'donation_0_0.0', 'format_id_-999.0', 'format_id_1.0', 'format_id_2.0', 'format_id_3.0', 'format_id_4.0', 'format_id_5.0', 'format_id_6.0', 'format_id_7.0', 'format_id_8.0', 'format_id_9.0', 'format_id_10.0', 'format_id_11.0', 'format_id_12.0', 'format_id_13.0', 'format_id_14.0', 'format_id_15.0', 'format_id_16.0', 'format_id_17.0', 'format_id_18.0', 'format_id_19.0', 'free_0_0.0', 'has_available_tickets_0.0', 'include_fee_0_0.0', 'inventory_type_limited', 'is_paid_0.0', 'is_reserved_seating_0.0', 'is_sold_out_0.0', 'locale_en', 'locale_en_CA', 'on_sale_status_0_AVAILABLE', 'on_sale_status_0_SOLD_OUT', 'online_event_0.0', 'refund_policy_flexible', 'refund_policy_moderate', 'refund_policy_no_refunds', 'refund_policy_not_defined', 'region_AB', 'region_AK', 'region_AL', 'region_AR', 'region_AZ', 'region_BC', 'region_CA', 'region_CO', 'region_CT', 'region_Ca', 'region_California', 'region_DC', 'region_DE', 'region_England', 'region_FL', 'region_Fl', 'region_Florida', 'region_GA', 'region_Georgia', 'region_HI', 'region_IA', 'region_ID', 'region_IL', 'region_IN', 'region_Illinois', 'region_KS', 'region_KY', 'region_LA', 'region_MA', 'region_MD', 'region_ME', 'region_MI', 'region_MN', 'region_MO', 'region_MS', 'region_MT', 'region_Maryland', 'region_NC', 'region_ND', 'region_NE', 'region_NH', 'region_NJ', 'region_NM', 'region_NSW', 'region_NV', 'region_NY', 'region_New Jersey', 'region_New York', 'region_North Carolina', 'region_OH', 'region_OK', 'region_ON', 'region_OR', 'region_Ohio', 'region_Ontario', 'region_PA', 'region_QC', 'region_RI', 'region_SC', 'region_SD', 'region_TN', 'region_TX', 'region_Texas', 'region_UT', 'region_VA', 'region_VT', 'region_WA', 'region_WI', 'region_WV', 'shareable_0.0', 'start_tz_America/Anchorage', 'start_tz_America/Boise', 'start_tz_America/Chicago', 'start_tz_America/Denver', 'start_tz_America/Detroit', 'start_tz_America/Edmonton', 'start_tz_America/Indiana/Indianapolis', 'start_tz_America/Los_Angeles', 'start_tz_America/New_York', 'start_tz_America/Phoenix', 'start_tz_America/Toronto', 'start_tz_America/Vancouver', 'start_tz_Australia/Sydney', 'start_tz_Europe/Amsterdam', 'start_tz_Europe/London', 'subcategory_id_-999.0', 'subcategory_id_1001.0', 'subcategory_id_1002.0', 'subcategory_id_1003.0', 'subcategory_id_1004.0', 'subcategory_id_1005.0', 'subcategory_id_1006.0', 'subcategory_id_1007.0', 'subcategory_id_1008.0', 'subcategory_id_1009.0', 'subcategory_id_1010.0', 'subcategory_id_1011.0', 'subcategory_id_1999.0', 'subcategory_id_2001.0', 'subcategory_id_2002.0', 'subcategory_id_2003.0', 'subcategory_id_2004.0', 'subcategory_id_2999.0', 'subcategory_id_3001.0', 'subcategory_id_3002.0', 'subcategory_id_3003.0', 'subcategory_id_3004.0', 'subcategory_id_3005.0', 'subcategory_id_3006.0', 'subcategory_id_3007.0', 'subcategory_id_3008.0', 'subcategory_id_3009.0', 'subcategory_id_3010.0', 'subcategory_id_3011.0', 'subcategory_id_3013.0', 'subcategory_id_3014.0', 'subcategory_id_3015.0', 'subcategory_id_3016.0', 'subcategory_id_3017.0', 'subcategory_id_3018.0', 'subcategory_id_3999.0', 'subcategory_id_4001.0', 'subcategory_id_4002.0', 'subcategory_id_4004.0', 'subcategory_id_4006.0', 'subcategory_id_4007.0', 'subcategory_id_4999.0', 'subcategory_id_5001.0', 'subcategory_id_5002.0', 'subcategory_id_5003.0', 'subcategory_id_5004.0', 'subcategory_id_5007.0', 'subcategory_id_5008.0', 'subcategory_id_5009.0', 'subcategory_id_5010.0', 'subcategory_id_5012.0', 'subcategory_id_5013.0', 'subcategory_id_5999.0', 'subcategory_id_6001.0', 'subcategory_id_6003.0', 'subcategory_id_6004.0', 'subcategory_id_6999.0', 'subcategory_id_7001.0', 'subcategory_id_7002.0', 'subcategory_id_7003.0', 'subcategory_id_7005.0', 'subcategory_id_7999.0', 'subcategory_id_8001.0', 'subcategory_id_8003.0', 'subcategory_id_8006.0', 'subcategory_id_8007.0', 'subcategory_id_8008.0', 'subcategory_id_8009.0', 'subcategory_id_8010.0', 'subcategory_id_8014.0', 'subcategory_id_8016.0', 'subcategory_id_8019.0', 'subcategory_id_8020.0', 'subcategory_id_8022.0', 'subcategory_id_8999.0', 'subcategory_id_9999.0', 'subcategory_id_10001.0', 'subcategory_id_10002.0', 'subcategory_id_10003.0', 'subcategory_id_10004.0', 'subcategory_id_10999.0', 'subcategory_id_11001.0', 'subcategory_id_11002.0', 'subcategory_id_11003.0', 'subcategory_id_11004.0', 'subcategory_id_11006.0', 'subcategory_id_11008.0', 'subcategory_id_11999.0', 'subcategory_id_12001.0', 'subcategory_id_12004.0', 'subcategory_id_12005.0', 'subcategory_id_12006.0', 'subcategory_id_12007.0', 'subcategory_id_12999.0', 'subcategory_id_13001.0', 'subcategory_id_13002.0', 'subcategory_id_13003.0', 'subcategory_id_13004.0', 'subcategory_id_13007.0', 'subcategory_id_13010.0', 'subcategory_id_13999.0', 'subcategory_id_14001.0', 'subcategory_id_14002.0', 'subcategory_id_15001.0', 'subcategory_id_15003.0', 'subcategory_id_15004.0', 'subcategory_id_15005.0', 'subcategory_id_15999.0', 'subcategory_id_16002.0', 'subcategory_id_16004.0', 'subcategory_id_16005.0', 'subcategory_id_16006.0', 'subcategory_id_16009.0', 'subcategory_id_16999.0', 'subcategory_id_17003.0', 'subcategory_id_17999.0', 'subcategory_id_18001.0', 'subcategory_id_18003.0', 'subcategory_id_19002.0', 'subcategory_id_19003.0', 'subcategory_id_19004.0', 'subcategory_id_19006.0', 'subcategory_id_19007.0', 'subcategory_id_19008.0', 'waitlist_available_0.0']\n"
     ]
    }
   ],
   "source": [
    "print(list(train.columns))"
   ]
  },
  {
   "cell_type": "code",
   "execution_count": 8,
   "metadata": {},
   "outputs": [
    {
     "data": {
      "text/plain": [
       "Index(['cost_0', 'created_dt', 'end_local_dt', 'fee_0', 'id', 'published_dt',\n",
       "       'start_local_dt', 'tax_0', 'venue_id', 'created_to_publish',\n",
       "       'publish_to_start', 'start_to_end'],\n",
       "      dtype='object')"
      ]
     },
     "execution_count": 8,
     "metadata": {},
     "output_type": "execute_result"
    }
   ],
   "source": [
    "train.columns[:12]"
   ]
  },
  {
   "cell_type": "code",
   "execution_count": 9,
   "metadata": {},
   "outputs": [
    {
     "name": "stdout",
     "output_type": "stream",
     "text": [
      "Benchmark for predicting tip percentage: 1527.4783\n"
     ]
    }
   ],
   "source": [
    "print('Benchmark for predicting tip percentage: %.4f' % train.cost_0.std())"
   ]
  },
  {
   "cell_type": "code",
   "execution_count": 10,
   "metadata": {},
   "outputs": [],
   "source": [
    "from sklearn.model_selection import train_test_split\n",
    "\n",
    "train_x = train.drop(labels=['cost_0', 'created_dt', 'end_local_dt', 'fee_0', 'id', 'published_dt',\n",
    "                             'start_local_dt', 'tax_0', 'venue_id'],axis=1)\n",
    "train_y = train['cost_0']\n",
    "X_train,X_test,y_train,y_test=train_test_split(train_x,train_y,test_size=0.2,random_state=123)"
   ]
  },
  {
   "cell_type": "code",
   "execution_count": 11,
   "metadata": {},
   "outputs": [
    {
     "name": "stdout",
     "output_type": "stream",
     "text": [
      "***Training set***\n",
      "R squared score: 0.0403\n",
      "RMSE: 8773718.1311\n",
      "\n",
      "**Test Set***\n",
      "R squared score: 0.0231\n",
      "RMSE: 9002506.9352\n",
      "\n",
      "\n",
      "\n",
      "                    feature  coefficient\n",
      "0        created_to_publish     0.000000\n",
      "1          publish_to_start    60.832167\n",
      "2              start_to_end     2.721136\n",
      "3        category_id_-999.0     0.000000\n",
      "4         category_id_101.0     5.740726\n",
      "..                      ...          ...\n",
      "269  subcategory_id_19004.0    -0.000000\n",
      "270  subcategory_id_19006.0    -0.000000\n",
      "271  subcategory_id_19007.0     0.000000\n",
      "272  subcategory_id_19008.0    -0.000000\n",
      "273  waitlist_available_0.0   -49.065420\n",
      "\n",
      "[274 rows x 2 columns]\n"
     ]
    }
   ],
   "source": [
    "from sklearn.preprocessing import StandardScaler\n",
    "from sklearn.linear_model import LassoCV\n",
    "from sklearn.metrics import mean_squared_error\n",
    "\n",
    "scaler = StandardScaler()\n",
    "\n",
    "scl_model = scaler.fit(X_train.astype('float64'))\n",
    "X_train_scl = scl_model.transform(X_train.astype('float64'))\n",
    "\n",
    "l1_cv = LassoCV(cv=5,n_alphas=5)\n",
    "l1_cv.fit(X_train_scl,y_train)\n",
    "\n",
    "X_test_scl = scl_model.transform(X_test.astype('float64'))\n",
    "\n",
    "y_pred_train = l1_cv.predict(X_train)\n",
    "y_pred = l1_cv.predict(X_test)\n",
    "\n",
    "print('***Training set***')\n",
    "print('R squared score: %.4f' % l1_cv.score(X_train_scl,y_train))\n",
    "print('RMSE: %.4f' % np.sqrt(mean_squared_error(y_pred_train,y_train)))\n",
    "\n",
    "\n",
    "print('\\n**Test Set***')\n",
    "print('R squared score: %.4f' % l1_cv.score(X_test_scl,y_test))\n",
    "print('RMSE: %.4f' % np.sqrt(mean_squared_error(y_pred,y_test)))\n",
    "\n",
    "print('\\n\\n')\n",
    "print(pd.DataFrame(list(zip(X_train.columns,l1_cv.coef_)),columns=['feature','coefficient']))"
   ]
  },
  {
   "cell_type": "markdown",
   "metadata": {},
   "source": [
    "Decision Tree"
   ]
  },
  {
   "cell_type": "code",
   "execution_count": 12,
   "metadata": {},
   "outputs": [],
   "source": [
    "# Make new train and test sets using all features\n",
    "train_x = train.drop(labels=['cost_0', 'created_dt', 'end_local_dt', 'fee_0', 'id', 'published_dt',\n",
    "                             'start_local_dt', 'tax_0', 'venue_id'],axis=1)\n",
    "train_y = train['cost_0']\n",
    "\n",
    "X_train,X_test,y_train,y_test=train_test_split(train_x,train_y,test_size=0.2,random_state=123)"
   ]
  },
  {
   "cell_type": "code",
   "execution_count": 13,
   "metadata": {},
   "outputs": [
    {
     "data": {
      "image/png": "[encoded data removed]",
      "text/plain": [
       "<Figure size 360x360 with 2 Axes>"
      ]
     },
     "metadata": {
      "needs_background": "light"
     },
     "output_type": "display_data"
    },
    {
     "name": "stdout",
     "output_type": "stream",
     "text": [
      "Best parameters:  {'max_depth': 14.0, 'min_samples_leaf': 215}\n",
      "Train RMSE: 1496.7679\n",
      "Test RMSE: 1486.6860\n"
     ]
    }
   ],
   "source": [
    "from sklearn.tree import DecisionTreeRegressor\n",
    "from sklearn.model_selection import GridSearchCV\n",
    "\n",
    "\n",
    "def simple_tree(max_depth,min_samples_leaf):\n",
    "    parameters={'max_depth':max_depth, 'min_samples_leaf':min_samples_leaf}\n",
    "\n",
    "    # Create and fit decition tree\n",
    "    dt = DecisionTreeRegressor()\n",
    "    dt_reg = GridSearchCV(dt, parameters,cv=3)\n",
    "    dt_reg.fit(X_train,y_train)\n",
    "\n",
    "    # Plot heat map of R^2 scores\n",
    "    scores = dt_reg.cv_results_['mean_test_score'].reshape(len(max_depth),len(min_samples_leaf))\n",
    "\n",
    "    plt.figure(figsize=(5,5))\n",
    "    plt.imshow(scores,cmap=plt.cm.inferno)\n",
    "    plt.xlabel('min_samples_leaf')\n",
    "    plt.ylabel('max_depth')\n",
    "    plt.xticks(np.arange(len(min_samples_leaf)),min_samples_leaf)\n",
    "    plt.yticks(np.arange(len(max_depth)),max_depth)\n",
    "    plt.colorbar()\n",
    "\n",
    "    for i in range(len(max_depth)):\n",
    "        for j in range(len(min_samples_leaf)):\n",
    "            text = plt.text(j, i, scores[i, j].round(3),\n",
    "                           horizontalalignment=\"center\",\n",
    "                           verticalalignment=\"center\",\n",
    "                           color=\"g\")\n",
    "\n",
    "    plt.title('Grid Search Results (R^2 score)')\n",
    "    plt.show()\n",
    "\n",
    "\n",
    "    print('Best parameters: ',dt_reg.best_params_)\n",
    "\n",
    "    y_pred_train = dt_reg.predict(X_train)\n",
    "    y_pred = dt_reg.predict(X_test)\n",
    "    print('Train RMSE: %.4f' %np.sqrt(mean_squared_error(y_pred_train,y_train)))\n",
    "    print('Test RMSE: %.4f' % np.sqrt(mean_squared_error(y_pred,y_test)))\n",
    "\n",
    "# Set values to test in grid search\n",
    "max_depth = np.floor(np.linspace(4,20,num=4))\n",
    "min_samples_leaf = list(map(int,np.logspace(1.0,3.0,num=4)))\n",
    "\n",
    "simple_tree(max_depth,min_samples_leaf)"
   ]
  },
  {
   "cell_type": "code",
   "execution_count": 14,
   "metadata": {},
   "outputs": [
    {
     "data": {
      "image/png": "[encoded data removed]",
      "text/plain": [
       "<Figure size 360x360 with 2 Axes>"
      ]
     },
     "metadata": {
      "needs_background": "light"
     },
     "output_type": "display_data"
    },
    {
     "name": "stdout",
     "output_type": "stream",
     "text": [
      "Best parameters:  {'max_depth': 4.0, 'min_samples_leaf': 316}\n",
      "Train RMSE: 1506.3309\n",
      "Test RMSE: 1491.4177\n"
     ]
    }
   ],
   "source": [
    "max_depth = np.floor(np.linspace(4,20,num=4))\n",
    "min_samples_leaf = list(map(int,np.logspace(2.5,4.5,num=4)))\n",
    "\n",
    "simple_tree(max_depth,min_samples_leaf)"
   ]
  },
  {
   "cell_type": "markdown",
   "metadata": {},
   "source": [
    "Random Forest"
   ]
  },
  {
   "cell_type": "code",
   "execution_count": 15,
   "metadata": {},
   "outputs": [
    {
     "data": {
      "image/png": "[encoded data removed]",
      "text/plain": [
       "<Figure size 360x360 with 2 Axes>"
      ]
     },
     "metadata": {
      "needs_background": "light"
     },
     "output_type": "display_data"
    },
    {
     "name": "stdout",
     "output_type": "stream",
     "text": [
      "Best parameters:  {'max_depth': 20.0, 'min_samples_leaf': 10}\n",
      "Train RMSE: 1460.0779\n",
      "Test RMSE: 1487.7817\n"
     ]
    }
   ],
   "source": [
    "from sklearn.ensemble import RandomForestRegressor\n",
    "\n",
    "def randomforest(max_depth,min_samples_leaf):\n",
    "    parameters={'max_depth':max_depth, 'min_samples_leaf':min_samples_leaf}\n",
    "    \n",
    "    # Create and fit random forest\n",
    "    rf = RandomForestRegressor(n_estimators=10,max_features='sqrt')\n",
    "    rf = GridSearchCV(rf, parameters,cv=3)\n",
    "    rf.fit(X_train,y_train)\n",
    "\n",
    "    scores = rf.cv_results_['mean_test_score'].reshape(len(max_depth),len(min_samples_leaf))\n",
    "\n",
    "    # Plot heatmap of R^2 values\n",
    "    plt.figure(figsize=(5,5))\n",
    "    plt.imshow(scores,cmap=plt.cm.inferno)\n",
    "    plt.xlabel('min_samples_leaf')\n",
    "    plt.ylabel('max_depth')\n",
    "    plt.xticks(np.arange(len(min_samples_leaf)),min_samples_leaf)\n",
    "    plt.yticks(np.arange(len(max_depth)),max_depth)\n",
    "    plt.colorbar()\n",
    "\n",
    "    for i in range(len(max_depth)):\n",
    "        for j in range(len(min_samples_leaf)):\n",
    "            text = plt.text(j, i, scores[i, j].round(3),\n",
    "                           horizontalalignment=\"center\",\n",
    "                           verticalalignment=\"center\",\n",
    "                           color=\"g\")\n",
    "\n",
    "    plt.title('Grid Search Results (R^2 score)')\n",
    "    plt.show()\n",
    "\n",
    "    print('Best parameters: ',rf.best_params_)\n",
    "\n",
    "    y_pred_train = rf.predict(X_train)\n",
    "    y_pred = rf.predict(X_test)\n",
    "    print('Train RMSE: %.4f' %np.sqrt(mean_squared_error(y_pred_train,y_train)))\n",
    "    print('Test RMSE: %.4f' % np.sqrt(mean_squared_error(y_pred,y_test)))\n",
    "\n",
    "    pd.DataFrame(list(zip(X_train.columns,rf.best_estimator_.feature_importances_)))\n",
    "    \n",
    "max_depth = np.floor(np.linspace(4,20,num=4))\n",
    "min_samples_leaf = list(map(int,np.floor(np.logspace(1.0,3.0,num=4))))\n",
    "\n",
    "randomforest(max_depth,min_samples_leaf)"
   ]
  },
  {
   "cell_type": "code",
   "execution_count": 16,
   "metadata": {},
   "outputs": [
    {
     "data": {
      "image/png": "[encoded data removed]",
      "text/plain": [
       "<Figure size 360x360 with 2 Axes>"
      ]
     },
     "metadata": {
      "needs_background": "light"
     },
     "output_type": "display_data"
    },
    {
     "name": "stdout",
     "output_type": "stream",
     "text": [
      "Best parameters:  {'max_depth': 10.0, 'min_samples_leaf': 3}\n",
      "Train RMSE: 1348.5932\n",
      "Test RMSE: 1502.0646\n"
     ]
    }
   ],
   "source": [
    "max_depth = np.floor(np.linspace(3,10,num=4))\n",
    "min_samples_leaf = list(map(int,np.floor(np.logspace(0.5,2,num=4))))\n",
    "\n",
    "randomforest(max_depth,min_samples_leaf)"
   ]
  },
  {
   "cell_type": "markdown",
   "metadata": {},
   "source": [
    "Gradient boosted trees"
   ]
  },
  {
   "cell_type": "code",
   "execution_count": 17,
   "metadata": {},
   "outputs": [
    {
     "name": "stdout",
     "output_type": "stream",
     "text": [
      "Train RMSE: 256.9694\n",
      "Test RMSE: 1701.4645\n",
      "\n",
      "Feature Importances\n",
      "                          0         1\n",
      "0        created_to_publish  0.172032\n",
      "1          publish_to_start  0.187991\n",
      "2              start_to_end  0.027056\n",
      "3        category_id_-999.0  0.013554\n",
      "4         category_id_101.0  0.001771\n",
      "..                      ...       ...\n",
      "269  subcategory_id_19004.0  0.000000\n",
      "270  subcategory_id_19006.0  0.000000\n",
      "271  subcategory_id_19007.0  0.000000\n",
      "272  subcategory_id_19008.0  0.000000\n",
      "273  waitlist_available_0.0  0.052330\n",
      "\n",
      "[274 rows x 2 columns]\n"
     ]
    },
    {
     "data": {
      "image/png": "[encoded data removed]",
      "text/plain": [
       "<Figure size 432x288 with 1 Axes>"
      ]
     },
     "metadata": {
      "needs_background": "light"
     },
     "output_type": "display_data"
    }
   ],
   "source": [
    "from sklearn.ensemble import GradientBoostingRegressor\n",
    "from sklearn.metrics import mean_squared_error\n",
    "\n",
    "def gradientBoostedTrees(n_estimators,learning_rate,max_depth):\n",
    "    gbr=GradientBoostingRegressor(loss='ls', learning_rate=lr, n_estimators=n_est, subsample=1, max_depth =6)\n",
    "    est=gbr.fit(X_train,y_train)\n",
    "\n",
    "    #plot the train loss vs. iteration\n",
    "    n = np.arange(n_est)+1\n",
    "    plt.plot(n, est.train_score_,'r-')\n",
    "    plt.ylabel('Training Loss')\n",
    "    plt.xlabel('Iteration')\n",
    "\n",
    "    y_pred_train = gbr.predict(X_train)\n",
    "    y_pred = gbr.predict(X_test)\n",
    "    print('Train RMSE: %.4f' %np.sqrt(mean_squared_error(y_pred_train,y_train)))\n",
    "    print('Test RMSE: %.4f' % np.sqrt(mean_squared_error(y_pred,y_test)))\n",
    "    \n",
    "    print('\\nFeature Importances')\n",
    "    print(pd.DataFrame(list(zip(X_train.columns,gbr.feature_importances_))))\n",
    "\n",
    "n_est=100\n",
    "lr=0.1\n",
    "max_depth=6\n",
    "\n",
    "gradientBoostedTrees(n_est,lr,max_depth)"
   ]
  },
  {
   "cell_type": "markdown",
   "metadata": {},
   "source": [
    "## Try just one category | 101: Business & Professional"
   ]
  },
  {
   "cell_type": "code",
   "execution_count": 18,
   "metadata": {},
   "outputs": [],
   "source": [
    "train = train.loc[train['category_id_101.0']==1]"
   ]
  },
  {
   "cell_type": "code",
   "execution_count": 19,
   "metadata": {},
   "outputs": [
    {
     "data": {
      "text/plain": [
       "(3747, 283)"
      ]
     },
     "execution_count": 19,
     "metadata": {},
     "output_type": "execute_result"
    }
   ],
   "source": [
    "train.shape"
   ]
  },
  {
   "cell_type": "code",
   "execution_count": 20,
   "metadata": {},
   "outputs": [],
   "source": [
    "train = train[train.columns[~pd.Series(train.columns).str.startswith('category_id_')]]"
   ]
  },
  {
   "cell_type": "code",
   "execution_count": 21,
   "metadata": {},
   "outputs": [
    {
     "data": {
      "text/plain": [
       "(3747, 262)"
      ]
     },
     "execution_count": 21,
     "metadata": {},
     "output_type": "execute_result"
    }
   ],
   "source": [
    "train.shape"
   ]
  },
  {
   "cell_type": "code",
   "execution_count": 22,
   "metadata": {},
   "outputs": [
    {
     "data": {
      "text/plain": [
       "661.8429813298596"
      ]
     },
     "execution_count": 22,
     "metadata": {},
     "output_type": "execute_result"
    }
   ],
   "source": [
    "train.cost_0.std()"
   ]
  },
  {
   "cell_type": "code",
   "execution_count": 23,
   "metadata": {},
   "outputs": [],
   "source": [
    "from sklearn.model_selection import train_test_split\n",
    "\n",
    "train_x = train.drop(labels=['cost_0', 'created_dt', 'end_local_dt', 'fee_0', 'id', 'published_dt',\n",
    "                             'start_local_dt', 'tax_0', 'venue_id'],axis=1)\n",
    "train_y = train['cost_0']\n",
    "X_train,X_test,y_train,y_test=train_test_split(train_x,train_y,test_size=0.2,random_state=123)"
   ]
  },
  {
   "cell_type": "code",
   "execution_count": 24,
   "metadata": {},
   "outputs": [
    {
     "name": "stdout",
     "output_type": "stream",
     "text": [
      "***Training set***\n",
      "R squared score: 0.1207\n",
      "RMSE: 14259207.8251\n",
      "\n",
      "**Test Set***\n",
      "R squared score: 0.0822\n",
      "RMSE: 12717236.8860\n",
      "\n",
      "\n",
      "\n",
      "                    feature  coefficient\n",
      "0        created_to_publish    -0.000000\n",
      "1          publish_to_start    77.962360\n",
      "2              start_to_end    -1.092833\n",
      "3                country_NL     0.000000\n",
      "4                country_US     0.000000\n",
      "..                      ...          ...\n",
      "248  subcategory_id_19004.0     0.000000\n",
      "249  subcategory_id_19006.0     0.000000\n",
      "250  subcategory_id_19007.0     0.000000\n",
      "251  subcategory_id_19008.0     0.000000\n",
      "252  waitlist_available_0.0   -15.481136\n",
      "\n",
      "[253 rows x 2 columns]\n"
     ]
    }
   ],
   "source": [
    "from sklearn.preprocessing import StandardScaler\n",
    "from sklearn.linear_model import LassoCV\n",
    "from sklearn.metrics import mean_squared_error\n",
    "\n",
    "scaler = StandardScaler()\n",
    "\n",
    "scl_model = scaler.fit(X_train.astype('float64'))\n",
    "X_train_scl = scl_model.transform(X_train.astype('float64'))\n",
    "\n",
    "l1_cv = LassoCV(cv=5,n_alphas=5)\n",
    "l1_cv.fit(X_train_scl,y_train)\n",
    "\n",
    "X_test_scl = scl_model.transform(X_test.astype('float64'))\n",
    "\n",
    "y_pred_train = l1_cv.predict(X_train)\n",
    "y_pred = l1_cv.predict(X_test)\n",
    "\n",
    "print('***Training set***')\n",
    "print('R squared score: %.4f' % l1_cv.score(X_train_scl,y_train))\n",
    "print('RMSE: %.4f' % np.sqrt(mean_squared_error(y_pred_train,y_train)))\n",
    "\n",
    "\n",
    "print('\\n**Test Set***')\n",
    "print('R squared score: %.4f' % l1_cv.score(X_test_scl,y_test))\n",
    "print('RMSE: %.4f' % np.sqrt(mean_squared_error(y_pred,y_test)))\n",
    "\n",
    "print('\\n\\n')\n",
    "print(pd.DataFrame(list(zip(X_train.columns,l1_cv.coef_)),columns=['feature','coefficient']))"
   ]
  },
  {
   "cell_type": "code",
   "execution_count": 25,
   "metadata": {},
   "outputs": [
    {
     "data": {
      "image/png": "[encoded data removed]",
      "text/plain": [
       "<Figure size 360x360 with 2 Axes>"
      ]
     },
     "metadata": {
      "needs_background": "light"
     },
     "output_type": "display_data"
    },
    {
     "name": "stdout",
     "output_type": "stream",
     "text": [
      "Best parameters:  {'max_depth': 4.0, 'min_samples_leaf': 46}\n",
      "Train RMSE: 607.9920\n",
      "Test RMSE: 583.9409\n"
     ]
    }
   ],
   "source": [
    "from sklearn.tree import DecisionTreeRegressor\n",
    "from sklearn.model_selection import GridSearchCV\n",
    "\n",
    "\n",
    "def simple_tree(max_depth,min_samples_leaf):\n",
    "    parameters={'max_depth':max_depth, 'min_samples_leaf':min_samples_leaf}\n",
    "\n",
    "    # Create and fit decition tree\n",
    "    dt = DecisionTreeRegressor()\n",
    "    dt_reg = GridSearchCV(dt, parameters,cv=3)\n",
    "    dt_reg.fit(X_train,y_train)\n",
    "\n",
    "    # Plot heat map of R^2 scores\n",
    "    scores = dt_reg.cv_results_['mean_test_score'].reshape(len(max_depth),len(min_samples_leaf))\n",
    "\n",
    "    plt.figure(figsize=(5,5))\n",
    "    plt.imshow(scores,cmap=plt.cm.inferno)\n",
    "    plt.xlabel('min_samples_leaf')\n",
    "    plt.ylabel('max_depth')\n",
    "    plt.xticks(np.arange(len(min_samples_leaf)),min_samples_leaf)\n",
    "    plt.yticks(np.arange(len(max_depth)),max_depth)\n",
    "    plt.colorbar()\n",
    "\n",
    "    for i in range(len(max_depth)):\n",
    "        for j in range(len(min_samples_leaf)):\n",
    "            text = plt.text(j, i, scores[i, j].round(3),\n",
    "                           horizontalalignment=\"center\",\n",
    "                           verticalalignment=\"center\",\n",
    "                           color=\"g\")\n",
    "\n",
    "    plt.title('Grid Search Results (R^2 score)')\n",
    "    plt.show()\n",
    "\n",
    "\n",
    "    print('Best parameters: ',dt_reg.best_params_)\n",
    "\n",
    "    y_pred_train = dt_reg.predict(X_train)\n",
    "    y_pred = dt_reg.predict(X_test)\n",
    "    print('Train RMSE: %.4f' %np.sqrt(mean_squared_error(y_pred_train,y_train)))\n",
    "    print('Test RMSE: %.4f' % np.sqrt(mean_squared_error(y_pred,y_test)))\n",
    "\n",
    "# Set values to test in grid search\n",
    "max_depth = np.floor(np.linspace(4,20,num=4))\n",
    "min_samples_leaf = list(map(int,np.logspace(1.0,3.0,num=4)))\n",
    "\n",
    "simple_tree(max_depth,min_samples_leaf)"
   ]
  },
  {
   "cell_type": "code",
   "execution_count": 26,
   "metadata": {},
   "outputs": [
    {
     "data": {
      "image/png": "[encoded data removed]",
      "text/plain": [
       "<Figure size 360x360 with 2 Axes>"
      ]
     },
     "metadata": {
      "needs_background": "light"
     },
     "output_type": "display_data"
    },
    {
     "name": "stdout",
     "output_type": "stream",
     "text": [
      "Best parameters:  {'max_depth': 7.0, 'min_samples_leaf': 100}\n",
      "Train RMSE: 615.6319\n",
      "Test RMSE: 591.6299\n"
     ]
    }
   ],
   "source": [
    "# Set values to test in grid search\n",
    "max_depth = np.floor(np.linspace(5,12,num=4))\n",
    "min_samples_leaf = list(map(int,np.logspace(2,3,num=4)))\n",
    "\n",
    "simple_tree(max_depth,min_samples_leaf)"
   ]
  },
  {
   "cell_type": "code",
   "execution_count": 27,
   "metadata": {
    "scrolled": true
   },
   "outputs": [
    {
     "data": {
      "image/png": "[encoded data removed]",
      "text/plain": [
       "<Figure size 360x360 with 2 Axes>"
      ]
     },
     "metadata": {
      "needs_background": "light"
     },
     "output_type": "display_data"
    },
    {
     "name": "stdout",
     "output_type": "stream",
     "text": [
      "Best parameters:  {'max_depth': 13.0, 'min_samples_leaf': 10}\n",
      "Train RMSE: 614.9089\n",
      "Test RMSE: 600.7161\n",
      "                                         0             1\n",
      "0                       created_to_publish  5.615996e-02\n",
      "1                         publish_to_start  1.330664e-01\n",
      "2                             start_to_end  2.729254e-01\n",
      "3                               country_NL  0.000000e+00\n",
      "4                               country_US  0.000000e+00\n",
      "5                             currency_PHP  0.000000e+00\n",
      "6                           donation_0_0.0  0.000000e+00\n",
      "7                         format_id_-999.0  0.000000e+00\n",
      "8                            format_id_1.0  1.160451e-02\n",
      "9                            format_id_2.0  1.411634e-03\n",
      "10                           format_id_3.0  0.000000e+00\n",
      "11                           format_id_4.0  0.000000e+00\n",
      "12                           format_id_5.0  1.461734e-02\n",
      "13                           format_id_6.0  0.000000e+00\n",
      "14                           format_id_7.0  0.000000e+00\n",
      "15                           format_id_8.0  5.718301e-03\n",
      "16                           format_id_9.0  7.893636e-02\n",
      "17                          format_id_10.0  5.602580e-02\n",
      "18                          format_id_11.0  0.000000e+00\n",
      "19                          format_id_12.0  0.000000e+00\n",
      "20                          format_id_13.0  0.000000e+00\n",
      "21                          format_id_14.0  0.000000e+00\n",
      "22                          format_id_15.0  0.000000e+00\n",
      "23                          format_id_16.0  0.000000e+00\n",
      "24                          format_id_17.0  0.000000e+00\n",
      "25                          format_id_18.0  0.000000e+00\n",
      "26                          format_id_19.0  0.000000e+00\n",
      "27                              free_0_0.0  2.826937e-02\n",
      "28               has_available_tickets_0.0  0.000000e+00\n",
      "29                       include_fee_0_0.0  5.280546e-02\n",
      "30                  inventory_type_limited  0.000000e+00\n",
      "31                             is_paid_0.0  4.827726e-02\n",
      "32                 is_reserved_seating_0.0  0.000000e+00\n",
      "33                         is_sold_out_0.0  0.000000e+00\n",
      "34                               locale_en  0.000000e+00\n",
      "35                            locale_en_CA  0.000000e+00\n",
      "36              on_sale_status_0_AVAILABLE  0.000000e+00\n",
      "37               on_sale_status_0_SOLD_OUT  3.010294e-04\n",
      "38                        online_event_0.0  0.000000e+00\n",
      "39                  refund_policy_flexible  1.857126e-03\n",
      "40                  refund_policy_moderate  1.742749e-02\n",
      "41                refund_policy_no_refunds  1.321795e-02\n",
      "42               refund_policy_not_defined  2.177029e-02\n",
      "43                               region_AB  0.000000e+00\n",
      "44                               region_AK  0.000000e+00\n",
      "45                               region_AL  0.000000e+00\n",
      "46                               region_AR  0.000000e+00\n",
      "47                               region_AZ  8.755178e-06\n",
      "48                               region_BC  0.000000e+00\n",
      "49                               region_CA  5.049190e-02\n",
      "50                               region_CO  1.786296e-04\n",
      "51                               region_CT  0.000000e+00\n",
      "52                               region_Ca  0.000000e+00\n",
      "53                       region_California  0.000000e+00\n",
      "54                               region_DC  2.696444e-05\n",
      "55                               region_DE  0.000000e+00\n",
      "56                          region_England  0.000000e+00\n",
      "57                               region_FL  6.184234e-05\n",
      "58                               region_Fl  0.000000e+00\n",
      "59                          region_Florida  0.000000e+00\n",
      "60                               region_GA  0.000000e+00\n",
      "61                          region_Georgia  0.000000e+00\n",
      "62                               region_HI  0.000000e+00\n",
      "63                               region_IA  0.000000e+00\n",
      "64                               region_ID  0.000000e+00\n",
      "65                               region_IL  1.069538e-03\n",
      "66                               region_IN  1.582066e-03\n",
      "67                         region_Illinois  0.000000e+00\n",
      "68                               region_KS  0.000000e+00\n",
      "69                               region_KY  0.000000e+00\n",
      "70                               region_LA  0.000000e+00\n",
      "71                               region_MA  7.908717e-05\n",
      "72                               region_MD  1.738601e-04\n",
      "73                               region_ME  0.000000e+00\n",
      "74                               region_MI  7.304830e-08\n",
      "75                               region_MN  1.714308e-03\n",
      "76                               region_MO  0.000000e+00\n",
      "77                               region_MS  0.000000e+00\n",
      "78                               region_MT  0.000000e+00\n",
      "79                         region_Maryland  0.000000e+00\n",
      "80                               region_NC  0.000000e+00\n",
      "81                               region_ND  0.000000e+00\n",
      "82                               region_NE  0.000000e+00\n",
      "83                               region_NH  0.000000e+00\n",
      "84                               region_NJ  1.318353e-02\n",
      "85                               region_NM  0.000000e+00\n",
      "86                              region_NSW  0.000000e+00\n",
      "87                               region_NV  0.000000e+00\n",
      "88                               region_NY  3.414966e-03\n",
      "89                       region_New Jersey  0.000000e+00\n",
      "90                         region_New York  0.000000e+00\n",
      "91                   region_North Carolina  0.000000e+00\n",
      "92                               region_OH  1.310224e-04\n",
      "93                               region_OK  0.000000e+00\n",
      "94                               region_ON  0.000000e+00\n",
      "95                               region_OR  0.000000e+00\n",
      "96                             region_Ohio  0.000000e+00\n",
      "97                          region_Ontario  0.000000e+00\n",
      "98                               region_PA  1.182258e-04\n",
      "99                               region_QC  0.000000e+00\n",
      "100                              region_RI  0.000000e+00\n",
      "101                              region_SC  1.265478e-04\n",
      "102                              region_SD  0.000000e+00\n",
      "103                              region_TN  0.000000e+00\n",
      "104                              region_TX  2.049818e-05\n",
      "105                           region_Texas  0.000000e+00\n",
      "106                              region_UT  0.000000e+00\n",
      "107                              region_VA  2.179298e-04\n",
      "108                              region_VT  0.000000e+00\n",
      "109                              region_WA  0.000000e+00\n",
      "110                              region_WI  6.141008e-03\n",
      "111                              region_WV  0.000000e+00\n",
      "112                          shareable_0.0  4.712479e-04\n",
      "113             start_tz_America/Anchorage  0.000000e+00\n",
      "114                 start_tz_America/Boise  0.000000e+00\n",
      "115               start_tz_America/Chicago  3.998089e-03\n",
      "116                start_tz_America/Denver  1.340050e-04\n",
      "117               start_tz_America/Detroit  0.000000e+00\n",
      "118              start_tz_America/Edmonton  0.000000e+00\n",
      "119  start_tz_America/Indiana/Indianapolis  0.000000e+00\n",
      "120           start_tz_America/Los_Angeles  1.997988e-03\n",
      "121              start_tz_America/New_York  8.737012e-03\n",
      "122               start_tz_America/Phoenix  2.870297e-05\n",
      "123               start_tz_America/Toronto  0.000000e+00\n",
      "124             start_tz_America/Vancouver  0.000000e+00\n",
      "125              start_tz_Australia/Sydney  0.000000e+00\n",
      "126              start_tz_Europe/Amsterdam  0.000000e+00\n",
      "127                 start_tz_Europe/London  0.000000e+00\n",
      "128                  subcategory_id_-999.0  2.839611e-02\n",
      "129                  subcategory_id_1001.0  9.858883e-03\n",
      "130                  subcategory_id_1002.0  5.143047e-04\n",
      "131                  subcategory_id_1003.0  0.000000e+00\n",
      "132                  subcategory_id_1004.0  3.301894e-05\n",
      "133                  subcategory_id_1005.0  1.881282e-03\n",
      "134                  subcategory_id_1006.0  4.325735e-03\n",
      "135                  subcategory_id_1007.0  6.410963e-04\n",
      "136                  subcategory_id_1008.0  0.000000e+00\n",
      "137                  subcategory_id_1009.0  1.223432e-02\n",
      "138                  subcategory_id_1010.0  6.614249e-04\n",
      "139                  subcategory_id_1011.0  0.000000e+00\n",
      "140                  subcategory_id_1999.0  1.135262e-02\n",
      "141                  subcategory_id_2001.0  0.000000e+00\n",
      "142                  subcategory_id_2002.0  0.000000e+00\n",
      "143                  subcategory_id_2003.0  0.000000e+00\n",
      "144                  subcategory_id_2004.0  0.000000e+00\n",
      "145                  subcategory_id_2999.0  0.000000e+00\n",
      "146                  subcategory_id_3001.0  0.000000e+00\n",
      "147                  subcategory_id_3002.0  0.000000e+00\n",
      "148                  subcategory_id_3003.0  0.000000e+00\n",
      "149                  subcategory_id_3004.0  0.000000e+00\n",
      "150                  subcategory_id_3005.0  0.000000e+00\n",
      "151                  subcategory_id_3006.0  0.000000e+00\n",
      "152                  subcategory_id_3007.0  0.000000e+00\n",
      "153                  subcategory_id_3008.0  0.000000e+00\n",
      "154                  subcategory_id_3009.0  0.000000e+00\n",
      "155                  subcategory_id_3010.0  0.000000e+00\n",
      "156                  subcategory_id_3011.0  0.000000e+00\n",
      "157                  subcategory_id_3013.0  0.000000e+00\n",
      "158                  subcategory_id_3014.0  0.000000e+00\n",
      "159                  subcategory_id_3015.0  0.000000e+00\n",
      "160                  subcategory_id_3016.0  0.000000e+00\n",
      "161                  subcategory_id_3017.0  0.000000e+00\n",
      "162                  subcategory_id_3018.0  0.000000e+00\n",
      "163                  subcategory_id_3999.0  0.000000e+00\n",
      "164                  subcategory_id_4001.0  0.000000e+00\n",
      "165                  subcategory_id_4002.0  0.000000e+00\n",
      "166                  subcategory_id_4004.0  0.000000e+00\n",
      "167                  subcategory_id_4006.0  0.000000e+00\n",
      "168                  subcategory_id_4007.0  0.000000e+00\n",
      "169                  subcategory_id_4999.0  0.000000e+00\n",
      "170                  subcategory_id_5001.0  0.000000e+00\n",
      "171                  subcategory_id_5002.0  0.000000e+00\n",
      "172                  subcategory_id_5003.0  0.000000e+00\n",
      "173                  subcategory_id_5004.0  0.000000e+00\n",
      "174                  subcategory_id_5007.0  0.000000e+00\n",
      "175                  subcategory_id_5008.0  0.000000e+00\n",
      "176                  subcategory_id_5009.0  0.000000e+00\n",
      "177                  subcategory_id_5010.0  0.000000e+00\n",
      "178                  subcategory_id_5012.0  0.000000e+00\n",
      "179                  subcategory_id_5013.0  0.000000e+00\n",
      "180                  subcategory_id_5999.0  0.000000e+00\n",
      "181                  subcategory_id_6001.0  0.000000e+00\n",
      "182                  subcategory_id_6003.0  0.000000e+00\n",
      "183                  subcategory_id_6004.0  0.000000e+00\n",
      "184                  subcategory_id_6999.0  0.000000e+00\n",
      "185                  subcategory_id_7001.0  0.000000e+00\n",
      "186                  subcategory_id_7002.0  0.000000e+00\n",
      "187                  subcategory_id_7003.0  0.000000e+00\n",
      "188                  subcategory_id_7005.0  0.000000e+00\n",
      "189                  subcategory_id_7999.0  0.000000e+00\n",
      "190                  subcategory_id_8001.0  0.000000e+00\n",
      "191                  subcategory_id_8003.0  0.000000e+00\n",
      "192                  subcategory_id_8006.0  0.000000e+00\n",
      "193                  subcategory_id_8007.0  0.000000e+00\n",
      "194                  subcategory_id_8008.0  0.000000e+00\n",
      "195                  subcategory_id_8009.0  0.000000e+00\n",
      "196                  subcategory_id_8010.0  0.000000e+00\n",
      "197                  subcategory_id_8014.0  0.000000e+00\n",
      "198                  subcategory_id_8016.0  0.000000e+00\n",
      "199                  subcategory_id_8019.0  0.000000e+00\n",
      "200                  subcategory_id_8020.0  0.000000e+00\n",
      "201                  subcategory_id_8022.0  0.000000e+00\n",
      "202                  subcategory_id_8999.0  0.000000e+00\n",
      "203                  subcategory_id_9999.0  0.000000e+00\n",
      "204                 subcategory_id_10001.0  0.000000e+00\n",
      "205                 subcategory_id_10002.0  0.000000e+00\n",
      "206                 subcategory_id_10003.0  0.000000e+00\n",
      "207                 subcategory_id_10004.0  0.000000e+00\n",
      "208                 subcategory_id_10999.0  0.000000e+00\n",
      "209                 subcategory_id_11001.0  0.000000e+00\n",
      "210                 subcategory_id_11002.0  0.000000e+00\n",
      "211                 subcategory_id_11003.0  0.000000e+00\n",
      "212                 subcategory_id_11004.0  0.000000e+00\n",
      "213                 subcategory_id_11006.0  0.000000e+00\n",
      "214                 subcategory_id_11008.0  0.000000e+00\n",
      "215                 subcategory_id_11999.0  0.000000e+00\n",
      "216                 subcategory_id_12001.0  0.000000e+00\n",
      "217                 subcategory_id_12004.0  0.000000e+00\n",
      "218                 subcategory_id_12005.0  0.000000e+00\n",
      "219                 subcategory_id_12006.0  0.000000e+00\n",
      "220                 subcategory_id_12007.0  0.000000e+00\n",
      "221                 subcategory_id_12999.0  0.000000e+00\n",
      "222                 subcategory_id_13001.0  0.000000e+00\n",
      "223                 subcategory_id_13002.0  0.000000e+00\n",
      "224                 subcategory_id_13003.0  0.000000e+00\n",
      "225                 subcategory_id_13004.0  0.000000e+00\n",
      "226                 subcategory_id_13007.0  0.000000e+00\n",
      "227                 subcategory_id_13010.0  0.000000e+00\n",
      "228                 subcategory_id_13999.0  0.000000e+00\n",
      "229                 subcategory_id_14001.0  0.000000e+00\n",
      "230                 subcategory_id_14002.0  0.000000e+00\n",
      "231                 subcategory_id_15001.0  0.000000e+00\n",
      "232                 subcategory_id_15003.0  0.000000e+00\n",
      "233                 subcategory_id_15004.0  0.000000e+00\n",
      "234                 subcategory_id_15005.0  0.000000e+00\n",
      "235                 subcategory_id_15999.0  0.000000e+00\n",
      "236                 subcategory_id_16002.0  0.000000e+00\n",
      "237                 subcategory_id_16004.0  0.000000e+00\n",
      "238                 subcategory_id_16005.0  0.000000e+00\n",
      "239                 subcategory_id_16006.0  0.000000e+00\n",
      "240                 subcategory_id_16009.0  0.000000e+00\n",
      "241                 subcategory_id_16999.0  0.000000e+00\n",
      "242                 subcategory_id_17003.0  0.000000e+00\n",
      "243                 subcategory_id_17999.0  0.000000e+00\n",
      "244                 subcategory_id_18001.0  0.000000e+00\n",
      "245                 subcategory_id_18003.0  0.000000e+00\n",
      "246                 subcategory_id_19002.0  0.000000e+00\n",
      "247                 subcategory_id_19003.0  0.000000e+00\n",
      "248                 subcategory_id_19004.0  0.000000e+00\n",
      "249                 subcategory_id_19006.0  0.000000e+00\n",
      "250                 subcategory_id_19007.0  0.000000e+00\n",
      "251                 subcategory_id_19008.0  0.000000e+00\n",
      "252                 waitlist_available_0.0  2.160173e-02\n"
     ]
    }
   ],
   "source": [
    "from sklearn.ensemble import RandomForestRegressor\n",
    "\n",
    "def randomforest(max_depth,min_samples_leaf):\n",
    "    parameters={'max_depth':max_depth, 'min_samples_leaf':min_samples_leaf}\n",
    "    \n",
    "    # Create and fit random forest\n",
    "    rf = RandomForestRegressor(n_estimators=10,max_features='sqrt')\n",
    "    rf = GridSearchCV(rf, parameters,cv=3)\n",
    "    rf.fit(X_train,y_train)\n",
    "\n",
    "    scores = rf.cv_results_['mean_test_score'].reshape(len(max_depth),len(min_samples_leaf))\n",
    "\n",
    "    # Plot heatmap of R^2 values\n",
    "    plt.figure(figsize=(5,5))\n",
    "    plt.imshow(scores,cmap=plt.cm.inferno)\n",
    "    plt.xlabel('min_samples_leaf')\n",
    "    plt.ylabel('max_depth')\n",
    "    plt.xticks(np.arange(len(min_samples_leaf)),min_samples_leaf)\n",
    "    plt.yticks(np.arange(len(max_depth)),max_depth)\n",
    "    plt.colorbar()\n",
    "\n",
    "    for i in range(len(max_depth)):\n",
    "        for j in range(len(min_samples_leaf)):\n",
    "            text = plt.text(j, i, scores[i, j].round(3),\n",
    "                           horizontalalignment=\"center\",\n",
    "                           verticalalignment=\"center\",\n",
    "                           color=\"g\")\n",
    "\n",
    "    plt.title('Grid Search Results (R^2 score)')\n",
    "    plt.show()\n",
    "\n",
    "    print('Best parameters: ',rf.best_params_)\n",
    "\n",
    "    y_pred_train = rf.predict(X_train)\n",
    "    y_pred = rf.predict(X_test)\n",
    "    print('Train RMSE: %.4f' %np.sqrt(mean_squared_error(y_pred_train,y_train)))\n",
    "    print('Test RMSE: %.4f' % np.sqrt(mean_squared_error(y_pred,y_test)))\n",
    "\n",
    "    pd.options.display.max_rows=500\n",
    "    print(pd.DataFrame(list(zip(X_train.columns,rf.best_estimator_.feature_importances_))))\n",
    "\n",
    "    return rf.best_estimator_\n",
    "    \n",
    "max_depth = np.floor(np.linspace(1,20,num=4))\n",
    "min_samples_leaf = list(map(int,np.floor(np.logspace(0,3.0,num=4))))\n",
    "\n",
    "best_rf_estimator = randomforest(max_depth,min_samples_leaf)"
   ]
  },
  {
   "cell_type": "code",
   "execution_count": 28,
   "metadata": {},
   "outputs": [
    {
     "name": "stdout",
     "output_type": "stream",
     "text": [
      "Train RMSE: 125.1290\n",
      "Test RMSE: 621.7228\n",
      "\n",
      "Feature Importances\n",
      "                                         0             1\n",
      "0                       created_to_publish  6.513822e-02\n",
      "1                         publish_to_start  3.695334e-01\n",
      "2                             start_to_end  1.508323e-01\n",
      "3                               country_NL  0.000000e+00\n",
      "4                               country_US  0.000000e+00\n",
      "5                             currency_PHP  0.000000e+00\n",
      "6                           donation_0_0.0  9.000783e-04\n",
      "7                         format_id_-999.0  1.022442e-04\n",
      "8                            format_id_1.0  2.066797e-03\n",
      "9                            format_id_2.0  4.086351e-04\n",
      "10                           format_id_3.0  2.665225e-04\n",
      "11                           format_id_4.0  1.109737e-02\n",
      "12                           format_id_5.0  2.880190e-05\n",
      "13                           format_id_6.0  0.000000e+00\n",
      "14                           format_id_7.0  0.000000e+00\n",
      "15                           format_id_8.0  3.966085e-03\n",
      "16                           format_id_9.0  1.906770e-02\n",
      "17                          format_id_10.0  1.157530e-03\n",
      "18                          format_id_11.0  6.433287e-05\n",
      "19                          format_id_12.0  0.000000e+00\n",
      "20                          format_id_13.0  1.487662e-02\n",
      "21                          format_id_14.0  0.000000e+00\n",
      "22                          format_id_15.0  0.000000e+00\n",
      "23                          format_id_16.0  1.952314e-05\n",
      "24                          format_id_17.0  0.000000e+00\n",
      "25                          format_id_18.0  0.000000e+00\n",
      "26                          format_id_19.0  9.109975e-07\n",
      "27                              free_0_0.0  1.422697e-02\n",
      "28               has_available_tickets_0.0  1.439965e-06\n",
      "29                       include_fee_0_0.0  1.170432e-02\n",
      "30                  inventory_type_limited  0.000000e+00\n",
      "31                             is_paid_0.0  7.596325e-04\n",
      "32                 is_reserved_seating_0.0  0.000000e+00\n",
      "33                         is_sold_out_0.0  8.442503e-07\n",
      "34                               locale_en  1.911416e-04\n",
      "35                            locale_en_CA  0.000000e+00\n",
      "36              on_sale_status_0_AVAILABLE  0.000000e+00\n",
      "37               on_sale_status_0_SOLD_OUT  4.336198e-03\n",
      "38                        online_event_0.0  0.000000e+00\n",
      "39                  refund_policy_flexible  2.466049e-04\n",
      "40                  refund_policy_moderate  3.051557e-03\n",
      "41                refund_policy_no_refunds  8.074010e-03\n",
      "42               refund_policy_not_defined  6.318018e-03\n",
      "43                               region_AB  0.000000e+00\n",
      "44                               region_AK  1.106637e-04\n",
      "45                               region_AL  0.000000e+00\n",
      "46                               region_AR  1.117269e-04\n",
      "47                               region_AZ  1.214058e-05\n",
      "48                               region_BC  0.000000e+00\n",
      "49                               region_CA  1.277448e-02\n",
      "50                               region_CO  2.342390e-04\n",
      "51                               region_CT  3.123952e-03\n",
      "52                               region_Ca  0.000000e+00\n",
      "53                       region_California  0.000000e+00\n",
      "54                               region_DC  5.914747e-05\n",
      "55                               region_DE  0.000000e+00\n",
      "56                          region_England  0.000000e+00\n",
      "57                               region_FL  7.419170e-04\n",
      "58                               region_Fl  0.000000e+00\n",
      "59                          region_Florida  0.000000e+00\n",
      "60                               region_GA  1.790484e-03\n",
      "61                          region_Georgia  0.000000e+00\n",
      "62                               region_HI  1.727114e-03\n",
      "63                               region_IA  3.023398e-04\n",
      "64                               region_ID  1.635488e-05\n",
      "65                               region_IL  5.648472e-04\n",
      "66                               region_IN  1.063653e-02\n",
      "67                         region_Illinois  0.000000e+00\n",
      "68                               region_KS  5.602662e-05\n",
      "69                               region_KY  5.083254e-06\n",
      "70                               region_LA  1.086992e-04\n",
      "71                               region_MA  8.461279e-04\n",
      "72                               region_MD  9.275451e-04\n",
      "73                               region_ME  0.000000e+00\n",
      "74                               region_MI  4.595402e-05\n",
      "75                               region_MN  0.000000e+00\n",
      "76                               region_MO  8.517343e-05\n",
      "77                               region_MS  1.646644e-06\n",
      "78                               region_MT  0.000000e+00\n",
      "79                         region_Maryland  3.807108e-10\n",
      "80                               region_NC  1.927604e-05\n",
      "81                               region_ND  0.000000e+00\n",
      "82                               region_NE  0.000000e+00\n",
      "83                               region_NH  0.000000e+00\n",
      "84                               region_NJ  1.174880e-02\n",
      "85                               region_NM  4.169911e-05\n",
      "86                              region_NSW  0.000000e+00\n",
      "87                               region_NV  3.423484e-04\n",
      "88                               region_NY  2.118716e-03\n",
      "89                       region_New Jersey  0.000000e+00\n",
      "90                         region_New York  5.171590e-04\n",
      "91                   region_North Carolina  1.272342e-03\n",
      "92                               region_OH  2.240174e-04\n",
      "93                               region_OK  1.869191e-04\n",
      "94                               region_ON  0.000000e+00\n",
      "95                               region_OR  9.639860e-06\n",
      "96                             region_Ohio  1.419893e-04\n",
      "97                          region_Ontario  0.000000e+00\n",
      "98                               region_PA  5.400646e-04\n",
      "99                               region_QC  0.000000e+00\n",
      "100                              region_RI  1.119624e-06\n",
      "101                              region_SC  1.653307e-04\n",
      "102                              region_SD  0.000000e+00\n",
      "103                              region_TN  6.162708e-04\n",
      "104                              region_TX  2.729633e-04\n",
      "105                           region_Texas  0.000000e+00\n",
      "106                              region_UT  4.739755e-05\n",
      "107                              region_VA  1.215547e-03\n",
      "108                              region_VT  0.000000e+00\n",
      "109                              region_WA  6.638870e-05\n",
      "110                              region_WI  1.960668e-02\n",
      "111                              region_WV  2.901763e-05\n",
      "112                          shareable_0.0  2.981948e-04\n",
      "113             start_tz_America/Anchorage  3.378251e-05\n",
      "114                 start_tz_America/Boise  1.458431e-07\n",
      "115               start_tz_America/Chicago  2.126557e-02\n",
      "116                start_tz_America/Denver  2.885763e-04\n",
      "117               start_tz_America/Detroit  2.457359e-04\n",
      "118              start_tz_America/Edmonton  0.000000e+00\n",
      "119  start_tz_America/Indiana/Indianapolis  1.671952e-03\n",
      "120           start_tz_America/Los_Angeles  1.396731e-01\n",
      "121              start_tz_America/New_York  1.961267e-03\n",
      "122               start_tz_America/Phoenix  7.258924e-06\n",
      "123               start_tz_America/Toronto  0.000000e+00\n",
      "124             start_tz_America/Vancouver  0.000000e+00\n",
      "125              start_tz_Australia/Sydney  0.000000e+00\n",
      "126              start_tz_Europe/Amsterdam  0.000000e+00\n",
      "127                 start_tz_Europe/London  0.000000e+00\n",
      "128                  subcategory_id_-999.0  2.834199e-03\n",
      "129                  subcategory_id_1001.0  9.605054e-04\n",
      "130                  subcategory_id_1002.0  4.869651e-04\n",
      "131                  subcategory_id_1003.0  8.810005e-04\n",
      "132                  subcategory_id_1004.0  1.141262e-04\n",
      "133                  subcategory_id_1005.0  5.552460e-04\n",
      "134                  subcategory_id_1006.0  3.463383e-04\n",
      "135                  subcategory_id_1007.0  8.761999e-03\n",
      "136                  subcategory_id_1008.0  1.092585e-02\n",
      "137                  subcategory_id_1009.0  1.495160e-03\n",
      "138                  subcategory_id_1010.0  5.078868e-03\n",
      "139                  subcategory_id_1011.0  3.548366e-02\n",
      "140                  subcategory_id_1999.0  3.944208e-03\n",
      "141                  subcategory_id_2001.0  0.000000e+00\n",
      "142                  subcategory_id_2002.0  0.000000e+00\n",
      "143                  subcategory_id_2003.0  0.000000e+00\n",
      "144                  subcategory_id_2004.0  0.000000e+00\n",
      "145                  subcategory_id_2999.0  0.000000e+00\n",
      "146                  subcategory_id_3001.0  0.000000e+00\n",
      "147                  subcategory_id_3002.0  0.000000e+00\n",
      "148                  subcategory_id_3003.0  0.000000e+00\n",
      "149                  subcategory_id_3004.0  0.000000e+00\n",
      "150                  subcategory_id_3005.0  0.000000e+00\n",
      "151                  subcategory_id_3006.0  0.000000e+00\n",
      "152                  subcategory_id_3007.0  0.000000e+00\n",
      "153                  subcategory_id_3008.0  0.000000e+00\n",
      "154                  subcategory_id_3009.0  0.000000e+00\n",
      "155                  subcategory_id_3010.0  0.000000e+00\n",
      "156                  subcategory_id_3011.0  0.000000e+00\n",
      "157                  subcategory_id_3013.0  0.000000e+00\n",
      "158                  subcategory_id_3014.0  0.000000e+00\n",
      "159                  subcategory_id_3015.0  0.000000e+00\n",
      "160                  subcategory_id_3016.0  0.000000e+00\n",
      "161                  subcategory_id_3017.0  0.000000e+00\n",
      "162                  subcategory_id_3018.0  0.000000e+00\n",
      "163                  subcategory_id_3999.0  0.000000e+00\n",
      "164                  subcategory_id_4001.0  0.000000e+00\n",
      "165                  subcategory_id_4002.0  0.000000e+00\n",
      "166                  subcategory_id_4004.0  0.000000e+00\n",
      "167                  subcategory_id_4006.0  0.000000e+00\n",
      "168                  subcategory_id_4007.0  0.000000e+00\n",
      "169                  subcategory_id_4999.0  0.000000e+00\n",
      "170                  subcategory_id_5001.0  0.000000e+00\n",
      "171                  subcategory_id_5002.0  0.000000e+00\n",
      "172                  subcategory_id_5003.0  0.000000e+00\n",
      "173                  subcategory_id_5004.0  0.000000e+00\n",
      "174                  subcategory_id_5007.0  0.000000e+00\n",
      "175                  subcategory_id_5008.0  0.000000e+00\n",
      "176                  subcategory_id_5009.0  0.000000e+00\n",
      "177                  subcategory_id_5010.0  0.000000e+00\n",
      "178                  subcategory_id_5012.0  0.000000e+00\n",
      "179                  subcategory_id_5013.0  0.000000e+00\n",
      "180                  subcategory_id_5999.0  0.000000e+00\n",
      "181                  subcategory_id_6001.0  0.000000e+00\n",
      "182                  subcategory_id_6003.0  0.000000e+00\n",
      "183                  subcategory_id_6004.0  0.000000e+00\n",
      "184                  subcategory_id_6999.0  0.000000e+00\n",
      "185                  subcategory_id_7001.0  0.000000e+00\n",
      "186                  subcategory_id_7002.0  0.000000e+00\n",
      "187                  subcategory_id_7003.0  0.000000e+00\n",
      "188                  subcategory_id_7005.0  0.000000e+00\n",
      "189                  subcategory_id_7999.0  0.000000e+00\n",
      "190                  subcategory_id_8001.0  0.000000e+00\n",
      "191                  subcategory_id_8003.0  0.000000e+00\n",
      "192                  subcategory_id_8006.0  0.000000e+00\n",
      "193                  subcategory_id_8007.0  0.000000e+00\n",
      "194                  subcategory_id_8008.0  0.000000e+00\n",
      "195                  subcategory_id_8009.0  0.000000e+00\n",
      "196                  subcategory_id_8010.0  0.000000e+00\n",
      "197                  subcategory_id_8014.0  0.000000e+00\n",
      "198                  subcategory_id_8016.0  0.000000e+00\n",
      "199                  subcategory_id_8019.0  0.000000e+00\n",
      "200                  subcategory_id_8020.0  0.000000e+00\n",
      "201                  subcategory_id_8022.0  0.000000e+00\n",
      "202                  subcategory_id_8999.0  0.000000e+00\n",
      "203                  subcategory_id_9999.0  0.000000e+00\n",
      "204                 subcategory_id_10001.0  0.000000e+00\n",
      "205                 subcategory_id_10002.0  0.000000e+00\n",
      "206                 subcategory_id_10003.0  0.000000e+00\n",
      "207                 subcategory_id_10004.0  0.000000e+00\n",
      "208                 subcategory_id_10999.0  0.000000e+00\n",
      "209                 subcategory_id_11001.0  0.000000e+00\n",
      "210                 subcategory_id_11002.0  0.000000e+00\n",
      "211                 subcategory_id_11003.0  0.000000e+00\n",
      "212                 subcategory_id_11004.0  0.000000e+00\n",
      "213                 subcategory_id_11006.0  0.000000e+00\n",
      "214                 subcategory_id_11008.0  0.000000e+00\n",
      "215                 subcategory_id_11999.0  0.000000e+00\n",
      "216                 subcategory_id_12001.0  0.000000e+00\n",
      "217                 subcategory_id_12004.0  0.000000e+00\n",
      "218                 subcategory_id_12005.0  0.000000e+00\n",
      "219                 subcategory_id_12006.0  0.000000e+00\n",
      "220                 subcategory_id_12007.0  0.000000e+00\n",
      "221                 subcategory_id_12999.0  0.000000e+00\n",
      "222                 subcategory_id_13001.0  0.000000e+00\n",
      "223                 subcategory_id_13002.0  0.000000e+00\n",
      "224                 subcategory_id_13003.0  0.000000e+00\n",
      "225                 subcategory_id_13004.0  0.000000e+00\n",
      "226                 subcategory_id_13007.0  0.000000e+00\n",
      "227                 subcategory_id_13010.0  0.000000e+00\n",
      "228                 subcategory_id_13999.0  0.000000e+00\n",
      "229                 subcategory_id_14001.0  0.000000e+00\n",
      "230                 subcategory_id_14002.0  0.000000e+00\n",
      "231                 subcategory_id_15001.0  0.000000e+00\n",
      "232                 subcategory_id_15003.0  0.000000e+00\n",
      "233                 subcategory_id_15004.0  0.000000e+00\n",
      "234                 subcategory_id_15005.0  0.000000e+00\n",
      "235                 subcategory_id_15999.0  0.000000e+00\n",
      "236                 subcategory_id_16002.0  0.000000e+00\n",
      "237                 subcategory_id_16004.0  0.000000e+00\n",
      "238                 subcategory_id_16005.0  0.000000e+00\n",
      "239                 subcategory_id_16006.0  0.000000e+00\n",
      "240                 subcategory_id_16009.0  0.000000e+00\n",
      "241                 subcategory_id_16999.0  0.000000e+00\n",
      "242                 subcategory_id_17003.0  0.000000e+00\n",
      "243                 subcategory_id_17999.0  0.000000e+00\n",
      "244                 subcategory_id_18001.0  0.000000e+00\n",
      "245                 subcategory_id_18003.0  0.000000e+00\n",
      "246                 subcategory_id_19002.0  0.000000e+00\n",
      "247                 subcategory_id_19003.0  0.000000e+00\n",
      "248                 subcategory_id_19004.0  0.000000e+00\n",
      "249                 subcategory_id_19006.0  0.000000e+00\n",
      "250                 subcategory_id_19007.0  0.000000e+00\n",
      "251                 subcategory_id_19008.0  0.000000e+00\n",
      "252                 waitlist_available_0.0  7.825353e-04\n"
     ]
    },
    {
     "data": {
      "image/png": "[encoded data removed]",
      "text/plain": [
       "<Figure size 432x288 with 1 Axes>"
      ]
     },
     "metadata": {
      "needs_background": "light"
     },
     "output_type": "display_data"
    }
   ],
   "source": [
    "from sklearn.ensemble import GradientBoostingRegressor\n",
    "from sklearn.metrics import mean_squared_error\n",
    "\n",
    "def gradientBoostedTrees(n_estimators,learning_rate,max_depth):\n",
    "    gbt=GradientBoostingRegressor(loss='ls', learning_rate=lr, n_estimators=n_est, subsample=1, max_depth =6)\n",
    "    est=gbt.fit(X_train,y_train)\n",
    "\n",
    "    #plot the train loss vs. iteration\n",
    "    n = np.arange(n_est)+1\n",
    "    plt.plot(n, est.train_score_,'r-')\n",
    "    plt.ylabel('Training Loss')\n",
    "    plt.xlabel('Iteration')\n",
    "\n",
    "    y_pred_train = gbt.predict(X_train)\n",
    "    y_pred = gbt.predict(X_test)\n",
    "    print('Train RMSE: %.4f' %np.sqrt(mean_squared_error(y_pred_train,y_train)))\n",
    "    print('Test RMSE: %.4f' % np.sqrt(mean_squared_error(y_pred,y_test)))\n",
    "    \n",
    "    print('\\nFeature Importances')\n",
    "    print(pd.DataFrame(list(zip(X_train.columns,gbt.feature_importances_))))\n",
    "    \n",
    "    return gbt\n",
    "\n",
    "n_est=100\n",
    "lr=0.1\n",
    "max_depth=6\n",
    "\n",
    "gbt = gradientBoostedTrees(n_est,lr,max_depth)"
   ]
  },
  {
   "cell_type": "code",
   "execution_count": 29,
   "metadata": {},
   "outputs": [],
   "source": [
    "import pickle\n",
    "\n",
    "pkl_filename = 'RightPrice_RF_model.pkl'\n",
    "with open(pkl_filename, 'wb') as file:\n",
    "    pickle.dump(best_rf_estimator, file)"
   ]
  },
  {
   "cell_type": "code",
   "execution_count": 30,
   "metadata": {},
   "outputs": [
    {
     "name": "stdout",
     "output_type": "stream",
     "text": [
      "0.08780200524768533\n",
      "600.7160949504125\n"
     ]
    }
   ],
   "source": [
    "with open(pkl_filename, 'rb') as file:\n",
    "    pickle_model = pickle.load(file)\n",
    "\n",
    "score = pickle_model.score(X_test,y_test)\n",
    "print(score)\n",
    "Ypredict = pickle_model.predict(X_test)\n",
    "print(np.sqrt(mean_squared_error(Ypredict,y_test)))"
   ]
  },
  {
   "cell_type": "code",
   "execution_count": 55,
   "metadata": {},
   "outputs": [
    {
     "data": {
      "text/html": [
       "<div>\n",
       "<style scoped>\n",
       "    .dataframe tbody tr th:only-of-type {\n",
       "        vertical-align: middle;\n",
       "    }\n",
       "\n",
       "    .dataframe tbody tr th {\n",
       "        vertical-align: top;\n",
       "    }\n",
       "\n",
       "    .dataframe thead th {\n",
       "        text-align: right;\n",
       "    }\n",
       "</style>\n",
       "<table border=\"1\" class=\"dataframe\">\n",
       "  <thead>\n",
       "    <tr style=\"text-align: right;\">\n",
       "      <th></th>\n",
       "      <th>cost_0</th>\n",
       "      <th>created_dt</th>\n",
       "      <th>end_local_dt</th>\n",
       "      <th>fee_0</th>\n",
       "      <th>id</th>\n",
       "      <th>published_dt</th>\n",
       "      <th>start_local_dt</th>\n",
       "      <th>tax_0</th>\n",
       "      <th>venue_id</th>\n",
       "      <th>created_to_publish</th>\n",
       "      <th>...</th>\n",
       "      <th>subcategory_id_17999.0</th>\n",
       "      <th>subcategory_id_18001.0</th>\n",
       "      <th>subcategory_id_18003.0</th>\n",
       "      <th>subcategory_id_19002.0</th>\n",
       "      <th>subcategory_id_19003.0</th>\n",
       "      <th>subcategory_id_19004.0</th>\n",
       "      <th>subcategory_id_19006.0</th>\n",
       "      <th>subcategory_id_19007.0</th>\n",
       "      <th>subcategory_id_19008.0</th>\n",
       "      <th>waitlist_available_0.0</th>\n",
       "    </tr>\n",
       "    <tr>\n",
       "      <th>index</th>\n",
       "      <th></th>\n",
       "      <th></th>\n",
       "      <th></th>\n",
       "      <th></th>\n",
       "      <th></th>\n",
       "      <th></th>\n",
       "      <th></th>\n",
       "      <th></th>\n",
       "      <th></th>\n",
       "      <th></th>\n",
       "      <th></th>\n",
       "      <th></th>\n",
       "      <th></th>\n",
       "      <th></th>\n",
       "      <th></th>\n",
       "      <th></th>\n",
       "      <th></th>\n",
       "      <th></th>\n",
       "      <th></th>\n",
       "      <th></th>\n",
       "      <th></th>\n",
       "    </tr>\n",
       "  </thead>\n",
       "  <tbody>\n",
       "    <tr>\n",
       "      <th>239</th>\n",
       "      <td>0.0</td>\n",
       "      <td>2018-11-19 17:47:44</td>\n",
       "      <td>2019-09-03 14:00:00</td>\n",
       "      <td>0.0</td>\n",
       "      <td>52825744223</td>\n",
       "      <td>2018-11-19 17:49:39</td>\n",
       "      <td>2019-09-03 11:00:00</td>\n",
       "      <td>0.0</td>\n",
       "      <td>21357938.0</td>\n",
       "      <td>1.0</td>\n",
       "      <td>...</td>\n",
       "      <td>0.0</td>\n",
       "      <td>0.0</td>\n",
       "      <td>0.0</td>\n",
       "      <td>0.0</td>\n",
       "      <td>0.0</td>\n",
       "      <td>0.0</td>\n",
       "      <td>0.0</td>\n",
       "      <td>0.0</td>\n",
       "      <td>0.0</td>\n",
       "      <td>1.0</td>\n",
       "    </tr>\n",
       "  </tbody>\n",
       "</table>\n",
       "<p>1 rows × 262 columns</p>\n",
       "</div>"
      ],
      "text/plain": [
       "       cost_0           created_dt         end_local_dt  fee_0           id  \\\n",
       "index                                                                         \n",
       "239       0.0  2018-11-19 17:47:44  2019-09-03 14:00:00    0.0  52825744223   \n",
       "\n",
       "              published_dt       start_local_dt  tax_0    venue_id  \\\n",
       "index                                                                \n",
       "239    2018-11-19 17:49:39  2019-09-03 11:00:00    0.0  21357938.0   \n",
       "\n",
       "       created_to_publish  ...  subcategory_id_17999.0  \\\n",
       "index                      ...                           \n",
       "239                   1.0  ...                     0.0   \n",
       "\n",
       "       subcategory_id_18001.0  subcategory_id_18003.0  subcategory_id_19002.0  \\\n",
       "index                                                                           \n",
       "239                       0.0                     0.0                     0.0   \n",
       "\n",
       "       subcategory_id_19003.0  subcategory_id_19004.0  subcategory_id_19006.0  \\\n",
       "index                                                                           \n",
       "239                       0.0                     0.0                     0.0   \n",
       "\n",
       "       subcategory_id_19007.0  subcategory_id_19008.0  waitlist_available_0.0  \n",
       "index                                                                          \n",
       "239                       0.0                     0.0                     1.0  \n",
       "\n",
       "[1 rows x 262 columns]"
      ]
     },
     "execution_count": 55,
     "metadata": {},
     "output_type": "execute_result"
    }
   ],
   "source": [
    "train.loc[train.id==52825744223]"
   ]
  },
  {
   "cell_type": "code",
   "execution_count": 56,
   "metadata": {},
   "outputs": [
    {
     "ename": "ValueError",
     "evalue": "could not convert string to float: '2018-11-19 17:47:44'",
     "output_type": "error",
     "traceback": [
      "\u001b[0;31m---------------------------------------------------------------------------\u001b[0m",
      "\u001b[0;31mValueError\u001b[0m                                Traceback (most recent call last)",
      "\u001b[0;32m<ipython-input-56-5252e76867c4>\u001b[0m in \u001b[0;36m<module>\u001b[0;34m\u001b[0m\n\u001b[0;32m----> 1\u001b[0;31m \u001b[0mpickle_model\u001b[0m\u001b[0;34m.\u001b[0m\u001b[0mpredict\u001b[0m\u001b[0;34m(\u001b[0m\u001b[0mtrain\u001b[0m\u001b[0;34m.\u001b[0m\u001b[0mloc\u001b[0m\u001b[0;34m[\u001b[0m\u001b[0mtrain\u001b[0m\u001b[0;34m.\u001b[0m\u001b[0mid\u001b[0m\u001b[0;34m==\u001b[0m\u001b[0;36m52825744223\u001b[0m\u001b[0;34m]\u001b[0m\u001b[0;34m)\u001b[0m\u001b[0;34m\u001b[0m\u001b[0;34m\u001b[0m\u001b[0m\n\u001b[0m",
      "\u001b[0;32m/anaconda3/lib/python3.7/site-packages/sklearn/ensemble/forest.py\u001b[0m in \u001b[0;36mpredict\u001b[0;34m(self, X)\u001b[0m\n\u001b[1;32m    691\u001b[0m         \u001b[0mcheck_is_fitted\u001b[0m\u001b[0;34m(\u001b[0m\u001b[0mself\u001b[0m\u001b[0;34m,\u001b[0m \u001b[0;34m'estimators_'\u001b[0m\u001b[0;34m)\u001b[0m\u001b[0;34m\u001b[0m\u001b[0;34m\u001b[0m\u001b[0m\n\u001b[1;32m    692\u001b[0m         \u001b[0;31m# Check data\u001b[0m\u001b[0;34m\u001b[0m\u001b[0;34m\u001b[0m\u001b[0;34m\u001b[0m\u001b[0m\n\u001b[0;32m--> 693\u001b[0;31m         \u001b[0mX\u001b[0m \u001b[0;34m=\u001b[0m \u001b[0mself\u001b[0m\u001b[0;34m.\u001b[0m\u001b[0m_validate_X_predict\u001b[0m\u001b[0;34m(\u001b[0m\u001b[0mX\u001b[0m\u001b[0;34m)\u001b[0m\u001b[0;34m\u001b[0m\u001b[0;34m\u001b[0m\u001b[0m\n\u001b[0m\u001b[1;32m    694\u001b[0m \u001b[0;34m\u001b[0m\u001b[0m\n\u001b[1;32m    695\u001b[0m         \u001b[0;31m# Assign chunk of trees to jobs\u001b[0m\u001b[0;34m\u001b[0m\u001b[0;34m\u001b[0m\u001b[0;34m\u001b[0m\u001b[0m\n",
      "\u001b[0;32m/anaconda3/lib/python3.7/site-packages/sklearn/ensemble/forest.py\u001b[0m in \u001b[0;36m_validate_X_predict\u001b[0;34m(self, X)\u001b[0m\n\u001b[1;32m    357\u001b[0m                                  \"call `fit` before exploiting the model.\")\n\u001b[1;32m    358\u001b[0m \u001b[0;34m\u001b[0m\u001b[0m\n\u001b[0;32m--> 359\u001b[0;31m         \u001b[0;32mreturn\u001b[0m \u001b[0mself\u001b[0m\u001b[0;34m.\u001b[0m\u001b[0mestimators_\u001b[0m\u001b[0;34m[\u001b[0m\u001b[0;36m0\u001b[0m\u001b[0;34m]\u001b[0m\u001b[0;34m.\u001b[0m\u001b[0m_validate_X_predict\u001b[0m\u001b[0;34m(\u001b[0m\u001b[0mX\u001b[0m\u001b[0;34m,\u001b[0m \u001b[0mcheck_input\u001b[0m\u001b[0;34m=\u001b[0m\u001b[0;32mTrue\u001b[0m\u001b[0;34m)\u001b[0m\u001b[0;34m\u001b[0m\u001b[0;34m\u001b[0m\u001b[0m\n\u001b[0m\u001b[1;32m    360\u001b[0m \u001b[0;34m\u001b[0m\u001b[0m\n\u001b[1;32m    361\u001b[0m     \u001b[0;34m@\u001b[0m\u001b[0mproperty\u001b[0m\u001b[0;34m\u001b[0m\u001b[0;34m\u001b[0m\u001b[0m\n",
      "\u001b[0;32m/anaconda3/lib/python3.7/site-packages/sklearn/tree/tree.py\u001b[0m in \u001b[0;36m_validate_X_predict\u001b[0;34m(self, X, check_input)\u001b[0m\n\u001b[1;32m    389\u001b[0m         \u001b[0;34m\"\"\"Validate X whenever one tries to predict, apply, predict_proba\"\"\"\u001b[0m\u001b[0;34m\u001b[0m\u001b[0;34m\u001b[0m\u001b[0m\n\u001b[1;32m    390\u001b[0m         \u001b[0;32mif\u001b[0m \u001b[0mcheck_input\u001b[0m\u001b[0;34m:\u001b[0m\u001b[0;34m\u001b[0m\u001b[0;34m\u001b[0m\u001b[0m\n\u001b[0;32m--> 391\u001b[0;31m             \u001b[0mX\u001b[0m \u001b[0;34m=\u001b[0m \u001b[0mcheck_array\u001b[0m\u001b[0;34m(\u001b[0m\u001b[0mX\u001b[0m\u001b[0;34m,\u001b[0m \u001b[0mdtype\u001b[0m\u001b[0;34m=\u001b[0m\u001b[0mDTYPE\u001b[0m\u001b[0;34m,\u001b[0m \u001b[0maccept_sparse\u001b[0m\u001b[0;34m=\u001b[0m\u001b[0;34m\"csr\"\u001b[0m\u001b[0;34m)\u001b[0m\u001b[0;34m\u001b[0m\u001b[0;34m\u001b[0m\u001b[0m\n\u001b[0m\u001b[1;32m    392\u001b[0m             if issparse(X) and (X.indices.dtype != np.intc or\n\u001b[1;32m    393\u001b[0m                                 X.indptr.dtype != np.intc):\n",
      "\u001b[0;32m/anaconda3/lib/python3.7/site-packages/sklearn/utils/validation.py\u001b[0m in \u001b[0;36mcheck_array\u001b[0;34m(array, accept_sparse, accept_large_sparse, dtype, order, copy, force_all_finite, ensure_2d, allow_nd, ensure_min_samples, ensure_min_features, warn_on_dtype, estimator)\u001b[0m\n\u001b[1;32m    494\u001b[0m             \u001b[0;32mtry\u001b[0m\u001b[0;34m:\u001b[0m\u001b[0;34m\u001b[0m\u001b[0;34m\u001b[0m\u001b[0m\n\u001b[1;32m    495\u001b[0m                 \u001b[0mwarnings\u001b[0m\u001b[0;34m.\u001b[0m\u001b[0msimplefilter\u001b[0m\u001b[0;34m(\u001b[0m\u001b[0;34m'error'\u001b[0m\u001b[0;34m,\u001b[0m \u001b[0mComplexWarning\u001b[0m\u001b[0;34m)\u001b[0m\u001b[0;34m\u001b[0m\u001b[0;34m\u001b[0m\u001b[0m\n\u001b[0;32m--> 496\u001b[0;31m                 \u001b[0marray\u001b[0m \u001b[0;34m=\u001b[0m \u001b[0mnp\u001b[0m\u001b[0;34m.\u001b[0m\u001b[0masarray\u001b[0m\u001b[0;34m(\u001b[0m\u001b[0marray\u001b[0m\u001b[0;34m,\u001b[0m \u001b[0mdtype\u001b[0m\u001b[0;34m=\u001b[0m\u001b[0mdtype\u001b[0m\u001b[0;34m,\u001b[0m \u001b[0morder\u001b[0m\u001b[0;34m=\u001b[0m\u001b[0morder\u001b[0m\u001b[0;34m)\u001b[0m\u001b[0;34m\u001b[0m\u001b[0;34m\u001b[0m\u001b[0m\n\u001b[0m\u001b[1;32m    497\u001b[0m             \u001b[0;32mexcept\u001b[0m \u001b[0mComplexWarning\u001b[0m\u001b[0;34m:\u001b[0m\u001b[0;34m\u001b[0m\u001b[0;34m\u001b[0m\u001b[0m\n\u001b[1;32m    498\u001b[0m                 raise ValueError(\"Complex data not supported\\n\"\n",
      "\u001b[0;32m/anaconda3/lib/python3.7/site-packages/numpy/core/numeric.py\u001b[0m in \u001b[0;36masarray\u001b[0;34m(a, dtype, order)\u001b[0m\n\u001b[1;32m    536\u001b[0m \u001b[0;34m\u001b[0m\u001b[0m\n\u001b[1;32m    537\u001b[0m     \"\"\"\n\u001b[0;32m--> 538\u001b[0;31m     \u001b[0;32mreturn\u001b[0m \u001b[0marray\u001b[0m\u001b[0;34m(\u001b[0m\u001b[0ma\u001b[0m\u001b[0;34m,\u001b[0m \u001b[0mdtype\u001b[0m\u001b[0;34m,\u001b[0m \u001b[0mcopy\u001b[0m\u001b[0;34m=\u001b[0m\u001b[0;32mFalse\u001b[0m\u001b[0;34m,\u001b[0m \u001b[0morder\u001b[0m\u001b[0;34m=\u001b[0m\u001b[0morder\u001b[0m\u001b[0;34m)\u001b[0m\u001b[0;34m\u001b[0m\u001b[0;34m\u001b[0m\u001b[0m\n\u001b[0m\u001b[1;32m    539\u001b[0m \u001b[0;34m\u001b[0m\u001b[0m\n\u001b[1;32m    540\u001b[0m \u001b[0;34m\u001b[0m\u001b[0m\n",
      "\u001b[0;31mValueError\u001b[0m: could not convert string to float: '2018-11-19 17:47:44'"
     ]
    }
   ],
   "source": [
    "pickle_model.predict(train.loc[train.id==52825744223])"
   ]
  },
  {
   "cell_type": "code",
   "execution_count": null,
   "metadata": {},
   "outputs": [],
   "source": []
  }
 ],
 "metadata": {
  "kernelspec": {
   "display_name": "Python 3",
   "language": "python",
   "name": "python3"
  },
  "language_info": {
   "codemirror_mode": {
    "name": "ipython",
    "version": 3
   },
   "file_extension": ".py",
   "mimetype": "text/x-python",
   "name": "python",
   "nbconvert_exporter": "python",
   "pygments_lexer": "ipython3",
   "version": "3.7.3"
  }
 },
 "nbformat": 4,
 "nbformat_minor": 2
}
